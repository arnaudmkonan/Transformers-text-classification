{
  "cells": [
    {
      "cell_type": "markdown",
      "metadata": {
        "id": "view-in-github",
        "colab_type": "text"
      },
      "source": [
        "<a href=\"https://colab.research.google.com/github/arnaudmkonan/Transformers-text-classification/blob/master/scann_scalable_search_example_ipynb_txt.ipynb\" target=\"_parent\"><img src=\"https://colab.research.google.com/assets/colab-badge.svg\" alt=\"Open In Colab\"/></a>"
      ]
    },
    {
      "cell_type": "code",
      "execution_count": 1,
      "metadata": {
        "id": "1-4ybqWLhWRM"
      },
      "outputs": [],
      "source": [
        "# Copyright 2022 Google LLC\n",
        "\n",
        "# Licensed under the Apache License, Version 2.0 (the \"License\");\n",
        "# you may not use this file except in compliance with the License.\n",
        "# You may obtain a copy of the License at\n",
        "\n",
        "#     http://www.apache.org/licenses/LICENSE-2.0\n",
        "\n",
        "# Unless required by applicable law or agreed to in writing, software\n",
        "# distributed under the License is distributed on an \"AS IS\" BASIS,\n",
        "# WITHOUT WARRANTIES OR CONDITIONS OF ANY KIND, either express or implied.\n",
        "# See the License for the specific language governing permissions and\n",
        "# limitations under the License."
      ]
    },
    {
      "cell_type": "markdown",
      "metadata": {
        "id": "lKlMfYTWhWRR"
      },
      "source": [
        "# ScaNN Demo with GloVe Dataset"
      ]
    },
    {
      "cell_type": "code",
      "source": [
        "!pip -q install scann"
      ],
      "metadata": {
        "id": "gx3UjvcDhbmq"
      },
      "execution_count": 39,
      "outputs": []
    },
    {
      "cell_type": "code",
      "execution_count": 2,
      "metadata": {
        "scrolled": true,
        "id": "x4jycA-XhWRT"
      },
      "outputs": [],
      "source": [
        "import numpy as np\n",
        "import h5py\n",
        "import os\n",
        "import requests\n",
        "import tempfile\n",
        "import time\n",
        "\n",
        "import scann"
      ]
    },
    {
      "cell_type": "markdown",
      "metadata": {
        "id": "mGv0fRS9hWRU"
      },
      "source": [
        "### Download dataset"
      ]
    },
    {
      "cell_type": "code",
      "source": [
        "!wget http://ann-benchmarks.com/nytimes-256-angular.hdf5"
      ],
      "metadata": {
        "colab": {
          "base_uri": "https://localhost:8080/"
        },
        "id": "wuSMT0z4uUPV",
        "outputId": "7485ea83-e807-4325-8c60-2406a22dbfdf"
      },
      "execution_count": 4,
      "outputs": [
        {
          "output_type": "stream",
          "name": "stdout",
          "text": [
            "--2022-10-19 05:31:23--  http://ann-benchmarks.com/nytimes-256-angular.hdf5\n",
            "Resolving ann-benchmarks.com (ann-benchmarks.com)... 52.216.44.253\n",
            "Connecting to ann-benchmarks.com (ann-benchmarks.com)|52.216.44.253|:80... connected.\n",
            "HTTP request sent, awaiting response... 200 OK\n",
            "Length: 315208288 (301M) [binary/octet-stream]\n",
            "Saving to: ‘nytimes-256-angular.hdf5’\n",
            "\n",
            "nytimes-256-angular 100%[===================>] 300.61M  43.0MB/s    in 6.9s    \n",
            "\n",
            "2022-10-19 05:31:30 (43.6 MB/s) - ‘nytimes-256-angular.hdf5’ saved [315208288/315208288]\n",
            "\n"
          ]
        }
      ]
    },
    {
      "cell_type": "code",
      "execution_count": 20,
      "metadata": {
        "id": "6DOS3dwihWRV"
      },
      "outputs": [],
      "source": [
        "with tempfile.TemporaryDirectory() as tmp:\n",
        "    response = requests.get(\"http://ann-benchmarks.com/glove-100-angular.hdf5\")\n",
        "    # response = requests.get(\"http://ann-benchmarks.com/nytimes-256-angular.hdf5\")\n",
        "    # print(response.text)\n",
        "    loc = os.path.join(tmp, \"glove.hdf5\")\n",
        "    # loc = os.path.join(\"nytimes-256-angular.hdf5\")\n",
        "    with open(loc, 'wb') as f:\n",
        "        f.write(response.content)\n",
        "    \n",
        "    glove_h5py = h5py.File(loc, \"r\")"
      ]
    },
    {
      "cell_type": "code",
      "source": [
        "loc = os.path.join(\"nytimes-256-angular.hdf5\")\n",
        "with open(loc, 'wb') as f:\n",
        "  f.write(response.content)\n",
        "  nyt_256_angular_h5py = h5py.File(loc, \"r\")\n",
        "list(nyt_256_angular_h5py.keys())"
      ],
      "metadata": {
        "colab": {
          "base_uri": "https://localhost:8080/"
        },
        "id": "At8zUxqyutXy",
        "outputId": "cb568540-5dd4-428d-aabe-6ccaf183eb40"
      },
      "execution_count": 21,
      "outputs": [
        {
          "output_type": "execute_result",
          "data": {
            "text/plain": [
              "['distances', 'neighbors', 'test', 'train']"
            ]
          },
          "metadata": {},
          "execution_count": 21
        }
      ]
    },
    {
      "cell_type": "code",
      "execution_count": 22,
      "metadata": {
        "colab": {
          "base_uri": "https://localhost:8080/"
        },
        "id": "efzIztw_hWRV",
        "outputId": "de6fcf68-8102-4761-c5fc-9ba7c62bf35e"
      },
      "outputs": [
        {
          "output_type": "execute_result",
          "data": {
            "text/plain": [
              "['distances', 'neighbors', 'test', 'train']"
            ]
          },
          "metadata": {},
          "execution_count": 22
        }
      ],
      "source": [
        "list(glove_h5py.keys())"
      ]
    },
    {
      "cell_type": "code",
      "source": [
        "nyt_256_angular_h5py['train']\n"
      ],
      "metadata": {
        "colab": {
          "base_uri": "https://localhost:8080/"
        },
        "id": "xStw3TS-vKEn",
        "outputId": "35a4ce3a-318a-47d7-cf8f-ae8a214f37e4"
      },
      "execution_count": 28,
      "outputs": [
        {
          "output_type": "execute_result",
          "data": {
            "text/plain": [
              "<HDF5 dataset \"train\": shape (290000, 256), type \"<f4\">"
            ]
          },
          "metadata": {},
          "execution_count": 28
        }
      ]
    },
    {
      "cell_type": "code",
      "source": [
        "# glove_h5py = nyt_256_angular_h5py"
      ],
      "metadata": {
        "id": "9rZroIvcviNz"
      },
      "execution_count": 29,
      "outputs": []
    },
    {
      "cell_type": "code",
      "execution_count": 25,
      "metadata": {
        "colab": {
          "base_uri": "https://localhost:8080/"
        },
        "id": "UA9DMti6hWRW",
        "outputId": "830f656f-5932-441b-9442-246162d3aef8"
      },
      "outputs": [
        {
          "output_type": "stream",
          "name": "stdout",
          "text": [
            "(1183514, 100)\n",
            "(10000, 100)\n"
          ]
        }
      ],
      "source": [
        "dataset = glove_h5py['train']\n",
        "queries = glove_h5py['test']\n",
        "print(dataset.shape)\n",
        "print(queries.shape)"
      ]
    },
    {
      "cell_type": "code",
      "source": [
        "dataset.file"
      ],
      "metadata": {
        "colab": {
          "base_uri": "https://localhost:8080/"
        },
        "id": "gcOpqCtFjmiZ",
        "outputId": "95be758a-8080-4e87-f7f5-f41396dfc133"
      },
      "execution_count": 26,
      "outputs": [
        {
          "output_type": "execute_result",
          "data": {
            "text/plain": [
              "<HDF5 file \"glove.hdf5\" (mode r)>"
            ]
          },
          "metadata": {},
          "execution_count": 26
        }
      ]
    },
    {
      "cell_type": "markdown",
      "metadata": {
        "id": "GiDBA_ZShWRY"
      },
      "source": [
        "### Create ScaNN searcher"
      ]
    },
    {
      "cell_type": "code",
      "execution_count": 27,
      "metadata": {
        "id": "k4uS3i4KhWRY"
      },
      "outputs": [],
      "source": [
        "normalized_dataset = dataset / np.linalg.norm(dataset, axis=1)[:, np.newaxis]\n",
        "# configure ScaNN as a tree - asymmetric hash hybrid with reordering\n",
        "# anisotropic quantization as described in the paper; see README\n",
        "\n",
        "# use scann.scann_ops.build() to instead create a TensorFlow-compatible searcher\n",
        "searcher = scann.scann_ops_pybind.builder(normalized_dataset, 10, \"dot_product\").tree(\n",
        "    num_leaves=2000, num_leaves_to_search=100, training_sample_size=250000).score_ah(\n",
        "    2, anisotropic_quantization_threshold=0.2).reorder(100).build()"
      ]
    },
    {
      "cell_type": "code",
      "execution_count": 30,
      "metadata": {
        "id": "fv-MRu1phWRZ"
      },
      "outputs": [],
      "source": [
        "def compute_recall(neighbors, true_neighbors):\n",
        "    total = 0\n",
        "    for gt_row, row in zip(true_neighbors, neighbors):\n",
        "        total += np.intersect1d(gt_row, row).shape[0]\n",
        "    return total / true_neighbors.size"
      ]
    },
    {
      "cell_type": "markdown",
      "metadata": {
        "id": "A1-VY_6QhWRa"
      },
      "source": [
        "### ScaNN interface features"
      ]
    },
    {
      "cell_type": "code",
      "source": [
        "glove_h5py['neighbors'][:, :10]"
      ],
      "metadata": {
        "colab": {
          "base_uri": "https://localhost:8080/"
        },
        "id": "giwaO-An4Fru",
        "outputId": "9dec6278-8691-4dfb-b104-56dd7b2a5d33"
      },
      "execution_count": 38,
      "outputs": [
        {
          "output_type": "execute_result",
          "data": {
            "text/plain": [
              "array([[  97478,  262700,  846101, ..., 1133489,  723915,  660281],\n",
              "       [ 875925,  903728,  144313, ...,  675600,  891287,  712921],\n",
              "       [1046944,  809599,  531832, ...,  988527,  377259,  625676],\n",
              "       ...,\n",
              "       [1108312,  330498,  945288, ...,  350756, 1180096,  196396],\n",
              "       [ 214774, 1024728, 1114909, ...,  793539,  958245,  699403],\n",
              "       [ 423309,  484674, 1139759, ...,  206789,  804109,  974574]],\n",
              "      dtype=int32)"
            ]
          },
          "metadata": {},
          "execution_count": 38
        }
      ]
    },
    {
      "cell_type": "code",
      "execution_count": 31,
      "metadata": {
        "colab": {
          "base_uri": "https://localhost:8080/"
        },
        "id": "GKsk3n2YhWRa",
        "outputId": "fefe70f1-e15f-4dff-fac6-f0dd86064509"
      },
      "outputs": [
        {
          "output_type": "stream",
          "name": "stdout",
          "text": [
            "Recall: 0.89965\n",
            "Time: 2.1338512897491455\n"
          ]
        }
      ],
      "source": [
        "# this will search the top 100 of the 2000 leaves, and compute\n",
        "# the exact dot products of the top 100 candidates from asymmetric\n",
        "# hashing to get the final top 10 candidates.\n",
        "start = time.time()\n",
        "neighbors, distances = searcher.search_batched(queries)\n",
        "end = time.time()\n",
        "\n",
        "# we are given top 100 neighbors in the ground truth, so select top 10\n",
        "print(\"Recall:\", compute_recall(neighbors, glove_h5py['neighbors'][:, :10]))\n",
        "print(\"Time:\", end - start)"
      ]
    },
    {
      "cell_type": "code",
      "execution_count": 37,
      "metadata": {
        "colab": {
          "base_uri": "https://localhost:8080/"
        },
        "id": "rvh9cMbKhWRb",
        "outputId": "ee835f8c-bcef-4b80-8855-e161876de840"
      },
      "outputs": [
        {
          "output_type": "stream",
          "name": "stdout",
          "text": [
            "Recall: 0.98051\n",
            "Time: 12.514467716217041\n"
          ]
        }
      ],
      "source": [
        "# increasing the leaves to search increases recall at the cost of speed\n",
        "start = time.time()\n",
        "neighbors, distances = searcher.search_batched(queries, leaves_to_search=1000)\n",
        "end = time.time()\n",
        "\n",
        "print(\"Recall:\", compute_recall(neighbors, glove_h5py['neighbors'][:, :10]))\n",
        "print(\"Time:\", end - start)"
      ]
    },
    {
      "cell_type": "code",
      "execution_count": 33,
      "metadata": {
        "colab": {
          "base_uri": "https://localhost:8080/"
        },
        "id": "zluDowwqhWRb",
        "outputId": "167a7ca1-c0bc-4810-a213-57072ed4f67d"
      },
      "outputs": [
        {
          "output_type": "stream",
          "name": "stdout",
          "text": [
            "Recall: 0.93143\n",
            "Time: 3.405034303665161\n"
          ]
        }
      ],
      "source": [
        "# increasing reordering (the exact scoring of top AH candidates) has a similar effect.\n",
        "start = time.time()\n",
        "neighbors, distances = searcher.search_batched(queries, leaves_to_search=150, pre_reorder_num_neighbors=250)\n",
        "end = time.time()\n",
        "\n",
        "print(\"Recall:\", compute_recall(neighbors, glove_h5py['neighbors'][:, :10]))\n",
        "print(\"Time:\", end - start)"
      ]
    },
    {
      "cell_type": "code",
      "execution_count": 34,
      "metadata": {
        "colab": {
          "base_uri": "https://localhost:8080/"
        },
        "id": "ToXseVbChWRc",
        "outputId": "e9972205-db9c-42a0-a887-3c5c9173c3b8"
      },
      "outputs": [
        {
          "output_type": "stream",
          "name": "stdout",
          "text": [
            "(10000, 10) (10000, 10)\n",
            "(10000, 20) (10000, 20)\n"
          ]
        }
      ],
      "source": [
        "# we can also dynamically configure the number of neighbors returned\n",
        "# currently returns 10 as configued in ScannBuilder()\n",
        "neighbors, distances = searcher.search_batched(queries)\n",
        "print(neighbors.shape, distances.shape)\n",
        "\n",
        "# now returns 20\n",
        "neighbors, distances = searcher.search_batched(queries, final_num_neighbors=20)\n",
        "print(neighbors.shape, distances.shape)"
      ]
    },
    {
      "cell_type": "code",
      "execution_count": 35,
      "metadata": {
        "colab": {
          "base_uri": "https://localhost:8080/"
        },
        "id": "3HqM0R5ChWRc",
        "outputId": "253ea4bc-b616-4769-92c0-ff819caddccf"
      },
      "outputs": [
        {
          "output_type": "stream",
          "name": "stdout",
          "text": [
            "[ 97478 846101 671078 727732 544474]\n",
            "[2.5518737 2.539792  2.5383418 2.5097368 2.4656374]\n",
            "Latency (ms): 4.87065315246582\n"
          ]
        }
      ],
      "source": [
        "# we have been exclusively calling batch search so far; the single-query call has the same API\n",
        "start = time.time()\n",
        "neighbors, distances = searcher.search(queries[0], final_num_neighbors=5)\n",
        "end = time.time()\n",
        "\n",
        "print(neighbors)\n",
        "print(distances)\n",
        "print(\"Latency (ms):\", 1000*(end - start))"
      ]
    },
    {
      "cell_type": "code",
      "source": [
        "queries[0]"
      ],
      "metadata": {
        "colab": {
          "base_uri": "https://localhost:8080/"
        },
        "id": "G7K8HJUUkqiz",
        "outputId": "4e282faf-5aff-42b3-b3ac-9e40f4cf44c2"
      },
      "execution_count": 36,
      "outputs": [
        {
          "output_type": "execute_result",
          "data": {
            "text/plain": [
              "array([ 0.39553  ,  0.23048  ,  0.82722  ,  0.10453  , -0.69281  ,\n",
              "       -0.83357  , -0.49049  , -0.036362 , -0.48396  , -0.44315  ,\n",
              "       -0.37407  , -0.13825  ,  0.3158   ,  0.16467  ,  0.1318   ,\n",
              "       -0.34739  ,  0.30084  ,  0.26194  ,  0.60956  , -0.21171  ,\n",
              "        0.26935  , -0.56669  ,  0.34927  ,  0.34816  , -0.014743 ,\n",
              "        0.97688  ,  0.17702  ,  0.16185  ,  0.044074 , -0.68819  ,\n",
              "        0.18073  ,  0.26355  ,  0.36275  , -0.73523  ,  0.39962  ,\n",
              "        0.0037411, -0.15352  ,  0.10079  , -0.23187  , -0.7068   ,\n",
              "        0.32768  , -0.012518 ,  0.038887 ,  0.67385  , -1.1839   ,\n",
              "        0.91321  , -0.0060804,  0.026679 ,  0.42256  , -0.10934  ,\n",
              "       -0.25663  , -0.22761  ,  0.34171  , -0.47256  , -0.075018 ,\n",
              "       -0.55013  ,  0.5073   ,  0.096439 , -0.14561  ,  0.21227  ,\n",
              "       -0.82953  ,  0.33062  ,  0.064787 ,  0.106    , -0.25982  ,\n",
              "        0.24861  ,  0.2334   ,  0.45757  , -0.38603  , -0.19482  ,\n",
              "       -0.83137  , -0.097219 , -0.23189  ,  0.21918  , -0.64164  ,\n",
              "        0.61185  ,  0.6306   , -0.15189  ,  0.24623  ,  0.21495  ,\n",
              "       -0.7573   ,  0.9218   ,  0.15128  ,  0.077108 , -0.091657 ,\n",
              "       -0.4422   , -0.023552 , -0.89412  , -0.40551  , -0.7191   ,\n",
              "        0.15076  , -0.010834 , -0.11687  ,  0.54617  , -0.36412  ,\n",
              "        0.50771  ,  0.68284  ,  0.79829  , -0.29665  , -0.14753  ],\n",
              "      dtype=float32)"
            ]
          },
          "metadata": {},
          "execution_count": 36
        }
      ]
    },
    {
      "cell_type": "code",
      "source": [],
      "metadata": {
        "id": "DRPiWIcLkv2o"
      },
      "execution_count": null,
      "outputs": []
    }
  ],
  "metadata": {
    "kernelspec": {
      "display_name": "Python 3",
      "language": "python",
      "name": "python3"
    },
    "language_info": {
      "codemirror_mode": {
        "name": "ipython",
        "version": 3
      },
      "file_extension": ".py",
      "mimetype": "text/x-python",
      "name": "python",
      "nbconvert_exporter": "python",
      "pygments_lexer": "ipython3",
      "version": "3.6.10"
    },
    "colab": {
      "provenance": [],
      "include_colab_link": true
    }
  },
  "nbformat": 4,
  "nbformat_minor": 0
}