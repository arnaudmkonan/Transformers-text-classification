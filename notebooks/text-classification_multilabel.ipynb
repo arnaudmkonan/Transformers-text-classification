{
  "cells": [
    {
      "cell_type": "markdown",
      "id": "552ec552",
      "metadata": {
        "id": "552ec552"
      },
      "source": [
        "# SetFit for Multilabel Text Classification"
      ]
    },
    {
      "cell_type": "markdown",
      "id": "3af7f258-5aaf-47c2-b81e-2f10fc349812",
      "metadata": {
        "id": "3af7f258-5aaf-47c2-b81e-2f10fc349812"
      },
      "source": [
        "In this notebook, we'll learn how to do few-shot text classification on a multilabel dataset with SetFit."
      ]
    },
    {
      "cell_type": "markdown",
      "id": "c5604f73-f395-42cb-8082-9974a87ef9e9",
      "metadata": {
        "id": "c5604f73-f395-42cb-8082-9974a87ef9e9"
      },
      "source": [
        "## Setup"
      ]
    },
    {
      "cell_type": "markdown",
      "id": "26f09e23-2e1f-41f6-bb40-a30d447a0541",
      "metadata": {
        "id": "26f09e23-2e1f-41f6-bb40-a30d447a0541"
      },
      "source": [
        "If you're running this Notebook on Colab or some other cloud platform, you will need to install the `setfit` library. Uncomment the following cell and run it:"
      ]
    },
    {
      "cell_type": "code",
      "execution_count": 1,
      "id": "277ed9b9-459c-465e-b750-13759978e616",
      "metadata": {
        "id": "277ed9b9-459c-465e-b750-13759978e616",
        "outputId": "c8b61775-ee52-459a-bba3-f29cdc87825e",
        "colab": {
          "base_uri": "https://localhost:8080/"
        }
      },
      "outputs": [
        {
          "output_type": "stream",
          "name": "stdout",
          "text": [
            "Looking in indexes: https://pypi.org/simple, https://us-python.pkg.dev/colab-wheels/public/simple/\n",
            "Requirement already satisfied: setfit in /usr/local/lib/python3.7/dist-packages (0.3.0)\n",
            "Requirement already satisfied: sentence-transformers==2.2.2 in /usr/local/lib/python3.7/dist-packages (from setfit) (2.2.2)\n",
            "Requirement already satisfied: datasets==2.3.2 in /usr/local/lib/python3.7/dist-packages (from setfit) (2.3.2)\n",
            "Requirement already satisfied: evaluate==0.2.2 in /usr/local/lib/python3.7/dist-packages (from setfit) (0.2.2)\n",
            "Requirement already satisfied: dill<0.3.6 in /usr/local/lib/python3.7/dist-packages (from datasets==2.3.2->setfit) (0.3.5.1)\n",
            "Requirement already satisfied: requests>=2.19.0 in /usr/local/lib/python3.7/dist-packages (from datasets==2.3.2->setfit) (2.23.0)\n",
            "Requirement already satisfied: multiprocess in /usr/local/lib/python3.7/dist-packages (from datasets==2.3.2->setfit) (0.70.13)\n",
            "Requirement already satisfied: packaging in /usr/local/lib/python3.7/dist-packages (from datasets==2.3.2->setfit) (21.3)\n",
            "Requirement already satisfied: responses<0.19 in /usr/local/lib/python3.7/dist-packages (from datasets==2.3.2->setfit) (0.18.0)\n",
            "Requirement already satisfied: pandas in /usr/local/lib/python3.7/dist-packages (from datasets==2.3.2->setfit) (1.3.5)\n",
            "Requirement already satisfied: tqdm>=4.62.1 in /usr/local/lib/python3.7/dist-packages (from datasets==2.3.2->setfit) (4.64.1)\n",
            "Requirement already satisfied: xxhash in /usr/local/lib/python3.7/dist-packages (from datasets==2.3.2->setfit) (3.0.0)\n",
            "Requirement already satisfied: huggingface-hub<1.0.0,>=0.1.0 in /usr/local/lib/python3.7/dist-packages (from datasets==2.3.2->setfit) (0.10.1)\n",
            "Requirement already satisfied: numpy>=1.17 in /usr/local/lib/python3.7/dist-packages (from datasets==2.3.2->setfit) (1.21.6)\n",
            "Requirement already satisfied: aiohttp in /usr/local/lib/python3.7/dist-packages (from datasets==2.3.2->setfit) (3.8.3)\n",
            "Requirement already satisfied: importlib-metadata in /usr/local/lib/python3.7/dist-packages (from datasets==2.3.2->setfit) (5.0.0)\n",
            "Requirement already satisfied: fsspec[http]>=2021.05.0 in /usr/local/lib/python3.7/dist-packages (from datasets==2.3.2->setfit) (2022.8.2)\n",
            "Requirement already satisfied: pyarrow>=6.0.0 in /usr/local/lib/python3.7/dist-packages (from datasets==2.3.2->setfit) (6.0.1)\n",
            "Requirement already satisfied: nltk in /usr/local/lib/python3.7/dist-packages (from sentence-transformers==2.2.2->setfit) (3.7)\n",
            "Requirement already satisfied: torch>=1.6.0 in /usr/local/lib/python3.7/dist-packages (from sentence-transformers==2.2.2->setfit) (1.12.1+cu113)\n",
            "Requirement already satisfied: torchvision in /usr/local/lib/python3.7/dist-packages (from sentence-transformers==2.2.2->setfit) (0.13.1+cu113)\n",
            "Requirement already satisfied: scipy in /usr/local/lib/python3.7/dist-packages (from sentence-transformers==2.2.2->setfit) (1.7.3)\n",
            "Requirement already satisfied: transformers<5.0.0,>=4.6.0 in /usr/local/lib/python3.7/dist-packages (from sentence-transformers==2.2.2->setfit) (4.23.1)\n",
            "Requirement already satisfied: scikit-learn in /usr/local/lib/python3.7/dist-packages (from sentence-transformers==2.2.2->setfit) (1.0.2)\n",
            "Requirement already satisfied: sentencepiece in /usr/local/lib/python3.7/dist-packages (from sentence-transformers==2.2.2->setfit) (0.1.97)\n",
            "Requirement already satisfied: asynctest==0.13.0 in /usr/local/lib/python3.7/dist-packages (from aiohttp->datasets==2.3.2->setfit) (0.13.0)\n",
            "Requirement already satisfied: typing-extensions>=3.7.4 in /usr/local/lib/python3.7/dist-packages (from aiohttp->datasets==2.3.2->setfit) (4.1.1)\n",
            "Requirement already satisfied: attrs>=17.3.0 in /usr/local/lib/python3.7/dist-packages (from aiohttp->datasets==2.3.2->setfit) (22.1.0)\n",
            "Requirement already satisfied: charset-normalizer<3.0,>=2.0 in /usr/local/lib/python3.7/dist-packages (from aiohttp->datasets==2.3.2->setfit) (2.1.1)\n",
            "Requirement already satisfied: aiosignal>=1.1.2 in /usr/local/lib/python3.7/dist-packages (from aiohttp->datasets==2.3.2->setfit) (1.2.0)\n",
            "Requirement already satisfied: multidict<7.0,>=4.5 in /usr/local/lib/python3.7/dist-packages (from aiohttp->datasets==2.3.2->setfit) (6.0.2)\n",
            "Requirement already satisfied: yarl<2.0,>=1.0 in /usr/local/lib/python3.7/dist-packages (from aiohttp->datasets==2.3.2->setfit) (1.8.1)\n",
            "Requirement already satisfied: frozenlist>=1.1.1 in /usr/local/lib/python3.7/dist-packages (from aiohttp->datasets==2.3.2->setfit) (1.3.1)\n",
            "Requirement already satisfied: async-timeout<5.0,>=4.0.0a3 in /usr/local/lib/python3.7/dist-packages (from aiohttp->datasets==2.3.2->setfit) (4.0.2)\n",
            "Requirement already satisfied: pyyaml>=5.1 in /usr/local/lib/python3.7/dist-packages (from huggingface-hub<1.0.0,>=0.1.0->datasets==2.3.2->setfit) (6.0)\n",
            "Requirement already satisfied: filelock in /usr/local/lib/python3.7/dist-packages (from huggingface-hub<1.0.0,>=0.1.0->datasets==2.3.2->setfit) (3.8.0)\n",
            "Requirement already satisfied: pyparsing!=3.0.5,>=2.0.2 in /usr/local/lib/python3.7/dist-packages (from packaging->datasets==2.3.2->setfit) (3.0.9)\n",
            "Requirement already satisfied: certifi>=2017.4.17 in /usr/local/lib/python3.7/dist-packages (from requests>=2.19.0->datasets==2.3.2->setfit) (2022.9.24)\n",
            "Requirement already satisfied: urllib3!=1.25.0,!=1.25.1,<1.26,>=1.21.1 in /usr/local/lib/python3.7/dist-packages (from requests>=2.19.0->datasets==2.3.2->setfit) (1.25.11)\n",
            "Requirement already satisfied: idna<3,>=2.5 in /usr/local/lib/python3.7/dist-packages (from requests>=2.19.0->datasets==2.3.2->setfit) (2.10)\n",
            "Requirement already satisfied: chardet<4,>=3.0.2 in /usr/local/lib/python3.7/dist-packages (from requests>=2.19.0->datasets==2.3.2->setfit) (3.0.4)\n",
            "Requirement already satisfied: regex!=2019.12.17 in /usr/local/lib/python3.7/dist-packages (from transformers<5.0.0,>=4.6.0->sentence-transformers==2.2.2->setfit) (2022.6.2)\n",
            "Requirement already satisfied: tokenizers!=0.11.3,<0.14,>=0.11.1 in /usr/local/lib/python3.7/dist-packages (from transformers<5.0.0,>=4.6.0->sentence-transformers==2.2.2->setfit) (0.13.1)\n",
            "Requirement already satisfied: zipp>=0.5 in /usr/local/lib/python3.7/dist-packages (from importlib-metadata->datasets==2.3.2->setfit) (3.9.0)\n",
            "Requirement already satisfied: joblib in /usr/local/lib/python3.7/dist-packages (from nltk->sentence-transformers==2.2.2->setfit) (1.2.0)\n",
            "Requirement already satisfied: click in /usr/local/lib/python3.7/dist-packages (from nltk->sentence-transformers==2.2.2->setfit) (7.1.2)\n",
            "Requirement already satisfied: python-dateutil>=2.7.3 in /usr/local/lib/python3.7/dist-packages (from pandas->datasets==2.3.2->setfit) (2.8.2)\n",
            "Requirement already satisfied: pytz>=2017.3 in /usr/local/lib/python3.7/dist-packages (from pandas->datasets==2.3.2->setfit) (2022.4)\n",
            "Requirement already satisfied: six>=1.5 in /usr/local/lib/python3.7/dist-packages (from python-dateutil>=2.7.3->pandas->datasets==2.3.2->setfit) (1.15.0)\n",
            "Requirement already satisfied: threadpoolctl>=2.0.0 in /usr/local/lib/python3.7/dist-packages (from scikit-learn->sentence-transformers==2.2.2->setfit) (3.1.0)\n",
            "Requirement already satisfied: pillow!=8.3.*,>=5.3.0 in /usr/local/lib/python3.7/dist-packages (from torchvision->sentence-transformers==2.2.2->setfit) (7.1.2)\n"
          ]
        }
      ],
      "source": [
        "%pip install setfit"
      ]
    },
    {
      "cell_type": "markdown",
      "id": "9920f8df-46ed-4db5-bae1-3d6ca233936c",
      "metadata": {
        "id": "9920f8df-46ed-4db5-bae1-3d6ca233936c"
      },
      "source": [
        "Alternatively, if you are running directly from source, you can set the path to the setfit source code"
      ]
    },
    {
      "cell_type": "code",
      "execution_count": 2,
      "id": "4a9fb3d9-40ac-4f61-a01f-934f8ebba41e",
      "metadata": {
        "id": "4a9fb3d9-40ac-4f61-a01f-934f8ebba41e"
      },
      "outputs": [],
      "source": [
        "import sys\n",
        "sys.path.append('../src')"
      ]
    },
    {
      "cell_type": "markdown",
      "id": "64e4d3b4-93cd-4774-8055-35a00b11f483",
      "metadata": {
        "id": "64e4d3b4-93cd-4774-8055-35a00b11f483"
      },
      "source": [
        "To be able to share your model with the community, there are a few more steps to follow.\n",
        "\n",
        "First, you have to store your authentication token from the Hugging Face Hub (sign up [here](https://huggingface.co/join) if you haven't already!). To do so, execute the following cell and input an [access token](https://huggingface.co/docs/hub/security-tokens) associated with your account:"
      ]
    },
    {
      "cell_type": "markdown",
      "id": "9309b7d5-1736-46be-b721-eb4ee4ab9e67",
      "metadata": {
        "id": "9309b7d5-1736-46be-b721-eb4ee4ab9e67"
      },
      "source": [
        "Then you need to install Git-LFS, which you can do by uncommenting and running following command:"
      ]
    },
    {
      "cell_type": "code",
      "execution_count": 3,
      "id": "5efb134e-fc40-42f2-b2a5-47112b6f2305",
      "metadata": {
        "id": "5efb134e-fc40-42f2-b2a5-47112b6f2305"
      },
      "outputs": [],
      "source": [
        "# !apt install git-lfs"
      ]
    },
    {
      "cell_type": "markdown",
      "id": "2b2a8fcd-46fe-43e4-835e-57b84964358a",
      "metadata": {
        "id": "2b2a8fcd-46fe-43e4-835e-57b84964358a"
      },
      "source": [
        "This notebook is designed to work with any multiclass [text classification dataset](https://huggingface.co/models?pipeline_tag=text-classification&sort=downloads) and pretrained [Sentence Transformer](https://huggingface.co/models?library=sentence-transformers&sort=downloads) on the Hub. Change the values below to try a different dataset / model!"
      ]
    },
    {
      "cell_type": "code",
      "execution_count": 4,
      "id": "41542e15-d211-45e9-b428-e1532c525f5b",
      "metadata": {
        "id": "41542e15-d211-45e9-b428-e1532c525f5b",
        "outputId": "a7ca0bce-92f1-4a90-91f9-ddd5b572fe82",
        "colab": {
          "base_uri": "https://localhost:8080/",
          "height": 87,
          "referenced_widgets": [
            "7e53533fe27640bf81591032173e2e70",
            "7779cb47ae004d74a1f6ee84b0ae16ae",
            "24ad5b713527490988a17f123328abd6",
            "9c04f4a191c94c35bef4e867066d7872",
            "8786b532194948bf855f88672622bb63",
            "8360df852c9f47d48486f7b8a315b02b",
            "9a2278f866c24c0e8a04636c680139f6",
            "cb9097e39def450c8f36cb7e01f47315",
            "72f3cda726ff4968be4fd4daaa1e3b3f",
            "4ad6435ba89a465d8b4ac6cbe97b09a3",
            "acf0f80ec25b404fad79898c6fd478f8"
          ]
        }
      },
      "outputs": [
        {
          "output_type": "stream",
          "name": "stderr",
          "text": [
            "WARNING:datasets.builder:Reusing dataset ethos (/root/.cache/huggingface/datasets/ethos/multilabel/1.0.0/898d3d005459ee3ff80dbeec2f169c6b7ea13de31a08458193e27dec3dd9ae38)\n"
          ]
        },
        {
          "output_type": "display_data",
          "data": {
            "text/plain": [
              "  0%|          | 0/1 [00:00<?, ?it/s]"
            ],
            "application/vnd.jupyter.widget-view+json": {
              "version_major": 2,
              "version_minor": 0,
              "model_id": "7e53533fe27640bf81591032173e2e70"
            }
          },
          "metadata": {}
        }
      ],
      "source": [
        "from datasets import load_dataset\n",
        "\n",
        "model_id = \"sentence-transformers/paraphrase-mpnet-base-v2\"\n",
        "dataset = load_dataset(\"ethos\", \"multilabel\")"
      ]
    },
    {
      "cell_type": "code",
      "source": [
        "dataset"
      ],
      "metadata": {
        "id": "ZejgKFRCGHMP",
        "outputId": "8329fc05-d377-4661-da24-d37a87762b12",
        "colab": {
          "base_uri": "https://localhost:8080/"
        }
      },
      "id": "ZejgKFRCGHMP",
      "execution_count": 5,
      "outputs": [
        {
          "output_type": "execute_result",
          "data": {
            "text/plain": [
              "DatasetDict({\n",
              "    train: Dataset({\n",
              "        features: ['text', 'violence', 'directed_vs_generalized', 'gender', 'race', 'national_origin', 'disability', 'religion', 'sexual_orientation'],\n",
              "        num_rows: 433\n",
              "    })\n",
              "})"
            ]
          },
          "metadata": {},
          "execution_count": 5
        }
      ]
    },
    {
      "cell_type": "markdown",
      "id": "3e756be8-3b60-4c86-aa1b-7ef78289b8e2",
      "metadata": {
        "tags": [],
        "id": "3e756be8-3b60-4c86-aa1b-7ef78289b8e2"
      },
      "source": [
        "## Loading and sampling the dataset"
      ]
    },
    {
      "cell_type": "code",
      "source": [
        "dataset.data"
      ],
      "metadata": {
        "id": "byPEyCYnGY9p",
        "outputId": "e7264f14-707d-4707-e387-56963f3e6210",
        "colab": {
          "base_uri": "https://localhost:8080/"
        }
      },
      "id": "byPEyCYnGY9p",
      "execution_count": 6,
      "outputs": [
        {
          "output_type": "execute_result",
          "data": {
            "text/plain": [
              "{'train': MemoryMappedTable\n",
              " text: string\n",
              " violence: int64\n",
              " directed_vs_generalized: int64\n",
              " gender: int64\n",
              " race: int64\n",
              " national_origin: int64\n",
              " disability: int64\n",
              " religion: int64\n",
              " sexual_orientation: int64\n",
              " ----\n",
              " text: [[\"You should know women's sports are a joke\",\"You look like Sloth with deeper Down’s syndrome\",\"You look like Russian and speak like Indian. Both are disgusting go kill yourself\",\"Women deserve to be abused, I guess.\",\"Women are made for making babies and cooking dinner and nothing else!!!\",\"why haven't you faggots taken the bi-pill yet\",\"Why don’t you go beck your god to murder you? Christianity is a joke\",\"why does that african american monkey hold gun like that?\",\"Why does Bulgaria exist as a country? It's one of those homosexual ones.\",\"Why do negroes tear down their own neighborhoods when a black thug gets killed by law enforcement? Must be because of low IQ.\",...,\"Come and kill my wife\",\"Catholicism is the beast that comes out of daniels dream interpretation.\",\"By calling period, a natural procedure, as an excuse it degrades their gender. I suppose I agree with that though they are degraded anyways\",\"Believe me, whites are superior in every way to nips and Western countries are prosperous specifically because of those racial differences.\",\"Anti-LGBT people ,How sad and ignorant...I cant believe it..How how ??? can they not see how STUPID they are?????\",\"All people are fucked up because of these queer thing because y'all realize how shitty gender roles are and how absurd is to see it in reverse genders roles\",\"Actually THIS WEIRD PEOPLE are HARMFUL! They need medications. His mother should have know he is like this and to not deny it\",\"ABU DA BI ABA DU BA BA HAMUD! See? I’m an arab priest too. This is how they sound. right? They are jokes\",\"a homo? so you fuck your brother instead of your sister?\",\"(((They))) will be chased out of every white country and hunted down like the animals they are for their evil schemes and plots\"]]\n",
              " violence: [[0,0,1,1,0,1,1,0,0,0,...,1,0,0,0,0,0,0,0,0,0]]\n",
              " directed_vs_generalized: [[0,1,1,0,0,1,1,1,1,0,...,1,0,0,0,0,0,1,0,1,0]]\n",
              " gender: [[1,0,0,1,1,0,0,0,0,0,...,1,0,1,0,0,1,0,0,0,0]]\n",
              " race: [[0,0,0,0,0,0,0,1,0,1,...,0,0,0,1,0,0,0,0,0,1]]\n",
              " national_origin: [[0,0,1,0,0,0,0,0,0,0,...,0,0,0,0,0,0,0,0,0,0]]\n",
              " disability: [[0,1,0,0,0,0,0,0,0,0,...,0,0,0,0,0,0,1,0,0,0]]\n",
              " religion: [[0,0,0,0,0,0,1,0,0,0,...,0,1,0,0,0,0,0,1,0,0]]\n",
              " sexual_orientation: [[0,0,0,0,0,1,0,0,1,0,...,0,0,0,0,1,1,0,0,1,0]]}"
            ]
          },
          "metadata": {},
          "execution_count": 6
        }
      ]
    },
    {
      "cell_type": "markdown",
      "id": "b68b26a3-1c56-4373-8060-97f747168ede",
      "metadata": {
        "id": "b68b26a3-1c56-4373-8060-97f747168ede"
      },
      "source": [
        "Most datasets on the Hub have many more labeled examples than those one encounters in few-shot settings. To simulate the effect of training on a limited number of examples, let's subsample the training set to have at least 8 labeled examples per feature.\n",
        "\n",
        "Note that if your dataset has differently formatted labels, you may need to adapt this section."
      ]
    },
    {
      "cell_type": "code",
      "execution_count": 7,
      "id": "0eb9bc83-bf99-422c-b123-4fcaed168bcb",
      "metadata": {
        "id": "0eb9bc83-bf99-422c-b123-4fcaed168bcb",
        "outputId": "f3bb2434-56bd-4194-ab97-ac059c33c8e5",
        "colab": {
          "base_uri": "https://localhost:8080/"
        }
      },
      "outputs": [
        {
          "output_type": "execute_result",
          "data": {
            "text/plain": [
              "['violence',\n",
              " 'directed_vs_generalized',\n",
              " 'gender',\n",
              " 'race',\n",
              " 'national_origin',\n",
              " 'disability',\n",
              " 'religion',\n",
              " 'sexual_orientation']"
            ]
          },
          "metadata": {},
          "execution_count": 7
        }
      ],
      "source": [
        "import numpy as np\n",
        "\n",
        "features = dataset[\"train\"].column_names\n",
        "features.remove(\"text\")\n",
        "features"
      ]
    },
    {
      "cell_type": "code",
      "execution_count": 8,
      "id": "c099cb8b-2ad6-4782-a3e6-574630956d94",
      "metadata": {
        "id": "c099cb8b-2ad6-4782-a3e6-574630956d94"
      },
      "outputs": [],
      "source": [
        "num_samples = 8\n",
        "samples = np.concatenate(\n",
        "    [np.random.choice(np.where(dataset[\"train\"][f])[0], num_samples) for f in features]\n",
        ")"
      ]
    },
    {
      "cell_type": "code",
      "source": [
        "samples"
      ],
      "metadata": {
        "id": "2iN3PY7rHLso",
        "outputId": "8620c174-7392-4b3e-fed6-dc74a7582baa",
        "colab": {
          "base_uri": "https://localhost:8080/"
        }
      },
      "id": "2iN3PY7rHLso",
      "execution_count": 9,
      "outputs": [
        {
          "output_type": "execute_result",
          "data": {
            "text/plain": [
              "array([288,  82, 145, 189, 392, 407, 372, 189, 318, 160,  97, 369, 421,\n",
              "       353, 291, 275, 420, 333, 365, 189, 190,   0, 251,   3,  48, 118,\n",
              "       426, 426, 121, 335,   7, 174, 380, 314, 244, 387,  27, 329, 329,\n",
              "        27, 361, 150, 172,  28, 332,  98, 258,  73,  75, 138, 255, 141,\n",
              "       261, 374,  80,  15, 176, 124,   8, 365, 371, 128,  36, 275])"
            ]
          },
          "metadata": {},
          "execution_count": 9
        }
      ]
    },
    {
      "cell_type": "markdown",
      "id": "a46662ff-aa4b-49c1-9c86-c8450e6d547b",
      "metadata": {
        "id": "a46662ff-aa4b-49c1-9c86-c8450e6d547b"
      },
      "source": [
        "We encode the emotions in a single `'label'` feature. "
      ]
    },
    {
      "cell_type": "code",
      "execution_count": 10,
      "id": "ff9fd491-8b80-4959-adcd-630bd17f951d",
      "metadata": {
        "id": "ff9fd491-8b80-4959-adcd-630bd17f951d",
        "outputId": "608c841f-32e7-4bb5-9121-1e498dd7869a",
        "colab": {
          "base_uri": "https://localhost:8080/",
          "height": 87,
          "referenced_widgets": [
            "a93cec8d24274199b9ba2a29cb844719",
            "ca0c5e209149438da88244f086cab9a4",
            "a6436ca116564b9880b7c5d5873f6e8f",
            "f69a14aaa8124c2d8645604f35d6ab4c",
            "8fad8ea434ba45e28fd28ef97c2d54bd",
            "c5767880c0b54ba18b5abd721773efe2",
            "519433f3bfaa461db04f242963fe0eb2",
            "163b6367f0b54386aa55b28b288c7d48",
            "648837a063f14d4f8ab3fa0bc2d16683",
            "047ed1fc17054f739557f262bb979a0d",
            "990c3b5942034b2496f4eaeefd5b2f4e"
          ]
        }
      },
      "outputs": [
        {
          "output_type": "stream",
          "name": "stderr",
          "text": [
            "WARNING:datasets.fingerprint:Parameter 'function'=<function encode_labels at 0x7f5a901aae60> of the transform datasets.arrow_dataset.Dataset._map_single couldn't be hashed properly, a random hash was used instead. Make sure your transforms and parameters are serializable with pickle or dill for the dataset fingerprinting and caching to work. If you reuse this transform, the caching mechanism will consider it to be different from the previous calls and recompute everything. This warning is only showed once. Subsequent hashing failures won't be showed.\n"
          ]
        },
        {
          "output_type": "display_data",
          "data": {
            "text/plain": [
              "  0%|          | 0/433 [00:00<?, ?ex/s]"
            ],
            "application/vnd.jupyter.widget-view+json": {
              "version_major": 2,
              "version_minor": 0,
              "model_id": "a93cec8d24274199b9ba2a29cb844719"
            }
          },
          "metadata": {}
        }
      ],
      "source": [
        "def encode_labels(record):\n",
        "    return {\"labels\": [record[feature] for feature in features]}\n",
        "\n",
        "\n",
        "dataset = dataset.map(encode_labels)"
      ]
    },
    {
      "cell_type": "code",
      "source": [
        "dataset"
      ],
      "metadata": {
        "id": "TXmLC4oWHqYk",
        "outputId": "d0614a01-bc1d-409e-e002-a353c89fd35d",
        "colab": {
          "base_uri": "https://localhost:8080/"
        }
      },
      "id": "TXmLC4oWHqYk",
      "execution_count": 11,
      "outputs": [
        {
          "output_type": "execute_result",
          "data": {
            "text/plain": [
              "DatasetDict({\n",
              "    train: Dataset({\n",
              "        features: ['text', 'violence', 'directed_vs_generalized', 'gender', 'race', 'national_origin', 'disability', 'religion', 'sexual_orientation', 'labels'],\n",
              "        num_rows: 433\n",
              "    })\n",
              "})"
            ]
          },
          "metadata": {},
          "execution_count": 11
        }
      ]
    },
    {
      "cell_type": "code",
      "source": [
        "import pandas as pd\n",
        "\n",
        "df = pd.DataFrame.from_records(dataset['train'])\n",
        "print(df.shape)\n",
        "df"
      ],
      "metadata": {
        "id": "dwWE8VibHRGs",
        "outputId": "7c561ce0-e13e-4403-ea8f-2507491bc4b4",
        "colab": {
          "base_uri": "https://localhost:8080/",
          "height": 659
        }
      },
      "id": "dwWE8VibHRGs",
      "execution_count": 12,
      "outputs": [
        {
          "output_type": "stream",
          "name": "stdout",
          "text": [
            "(433, 10)\n"
          ]
        },
        {
          "output_type": "execute_result",
          "data": {
            "text/plain": [
              "                                                  text  violence  \\\n",
              "0            You should know women's sports are a joke         0   \n",
              "1      You look like Sloth with deeper Down’s syndrome         0   \n",
              "2    You look like Russian and speak like Indian. B...         1   \n",
              "3                 Women deserve to be abused, I guess.         1   \n",
              "4    Women are made for making babies and cooking d...         0   \n",
              "..                                                 ...       ...   \n",
              "428  All people are fucked up because of these quee...         0   \n",
              "429  Actually THIS WEIRD PEOPLE are HARMFUL! They n...         0   \n",
              "430  ABU DA BI ABA DU BA BA HAMUD! See? I’m an arab...         0   \n",
              "431  a homo? so you fuck your brother instead of yo...         0   \n",
              "432  (((They))) will be chased out of every white c...         0   \n",
              "\n",
              "     directed_vs_generalized  gender  race  national_origin  disability  \\\n",
              "0                          0       1     0                0           0   \n",
              "1                          1       0     0                0           1   \n",
              "2                          1       0     0                1           0   \n",
              "3                          0       1     0                0           0   \n",
              "4                          0       1     0                0           0   \n",
              "..                       ...     ...   ...              ...         ...   \n",
              "428                        0       1     0                0           0   \n",
              "429                        1       0     0                0           1   \n",
              "430                        0       0     0                0           0   \n",
              "431                        1       0     0                0           0   \n",
              "432                        0       0     1                0           0   \n",
              "\n",
              "     religion  sexual_orientation                    labels  \n",
              "0           0                   0  [0, 0, 1, 0, 0, 0, 0, 0]  \n",
              "1           0                   0  [0, 1, 0, 0, 0, 1, 0, 0]  \n",
              "2           0                   0  [1, 1, 0, 0, 1, 0, 0, 0]  \n",
              "3           0                   0  [1, 0, 1, 0, 0, 0, 0, 0]  \n",
              "4           0                   0  [0, 0, 1, 0, 0, 0, 0, 0]  \n",
              "..        ...                 ...                       ...  \n",
              "428         0                   1  [0, 0, 1, 0, 0, 0, 0, 1]  \n",
              "429         0                   0  [0, 1, 0, 0, 0, 1, 0, 0]  \n",
              "430         1                   0  [0, 0, 0, 0, 0, 0, 1, 0]  \n",
              "431         0                   1  [0, 1, 0, 0, 0, 0, 0, 1]  \n",
              "432         0                   0  [0, 0, 0, 1, 0, 0, 0, 0]  \n",
              "\n",
              "[433 rows x 10 columns]"
            ],
            "text/html": [
              "\n",
              "  <div id=\"df-6e7e05c3-911c-4f0e-846d-584ae0eb22d5\">\n",
              "    <div class=\"colab-df-container\">\n",
              "      <div>\n",
              "<style scoped>\n",
              "    .dataframe tbody tr th:only-of-type {\n",
              "        vertical-align: middle;\n",
              "    }\n",
              "\n",
              "    .dataframe tbody tr th {\n",
              "        vertical-align: top;\n",
              "    }\n",
              "\n",
              "    .dataframe thead th {\n",
              "        text-align: right;\n",
              "    }\n",
              "</style>\n",
              "<table border=\"1\" class=\"dataframe\">\n",
              "  <thead>\n",
              "    <tr style=\"text-align: right;\">\n",
              "      <th></th>\n",
              "      <th>text</th>\n",
              "      <th>violence</th>\n",
              "      <th>directed_vs_generalized</th>\n",
              "      <th>gender</th>\n",
              "      <th>race</th>\n",
              "      <th>national_origin</th>\n",
              "      <th>disability</th>\n",
              "      <th>religion</th>\n",
              "      <th>sexual_orientation</th>\n",
              "      <th>labels</th>\n",
              "    </tr>\n",
              "  </thead>\n",
              "  <tbody>\n",
              "    <tr>\n",
              "      <th>0</th>\n",
              "      <td>You should know women's sports are a joke</td>\n",
              "      <td>0</td>\n",
              "      <td>0</td>\n",
              "      <td>1</td>\n",
              "      <td>0</td>\n",
              "      <td>0</td>\n",
              "      <td>0</td>\n",
              "      <td>0</td>\n",
              "      <td>0</td>\n",
              "      <td>[0, 0, 1, 0, 0, 0, 0, 0]</td>\n",
              "    </tr>\n",
              "    <tr>\n",
              "      <th>1</th>\n",
              "      <td>You look like Sloth with deeper Down’s syndrome</td>\n",
              "      <td>0</td>\n",
              "      <td>1</td>\n",
              "      <td>0</td>\n",
              "      <td>0</td>\n",
              "      <td>0</td>\n",
              "      <td>1</td>\n",
              "      <td>0</td>\n",
              "      <td>0</td>\n",
              "      <td>[0, 1, 0, 0, 0, 1, 0, 0]</td>\n",
              "    </tr>\n",
              "    <tr>\n",
              "      <th>2</th>\n",
              "      <td>You look like Russian and speak like Indian. B...</td>\n",
              "      <td>1</td>\n",
              "      <td>1</td>\n",
              "      <td>0</td>\n",
              "      <td>0</td>\n",
              "      <td>1</td>\n",
              "      <td>0</td>\n",
              "      <td>0</td>\n",
              "      <td>0</td>\n",
              "      <td>[1, 1, 0, 0, 1, 0, 0, 0]</td>\n",
              "    </tr>\n",
              "    <tr>\n",
              "      <th>3</th>\n",
              "      <td>Women deserve to be abused, I guess.</td>\n",
              "      <td>1</td>\n",
              "      <td>0</td>\n",
              "      <td>1</td>\n",
              "      <td>0</td>\n",
              "      <td>0</td>\n",
              "      <td>0</td>\n",
              "      <td>0</td>\n",
              "      <td>0</td>\n",
              "      <td>[1, 0, 1, 0, 0, 0, 0, 0]</td>\n",
              "    </tr>\n",
              "    <tr>\n",
              "      <th>4</th>\n",
              "      <td>Women are made for making babies and cooking d...</td>\n",
              "      <td>0</td>\n",
              "      <td>0</td>\n",
              "      <td>1</td>\n",
              "      <td>0</td>\n",
              "      <td>0</td>\n",
              "      <td>0</td>\n",
              "      <td>0</td>\n",
              "      <td>0</td>\n",
              "      <td>[0, 0, 1, 0, 0, 0, 0, 0]</td>\n",
              "    </tr>\n",
              "    <tr>\n",
              "      <th>...</th>\n",
              "      <td>...</td>\n",
              "      <td>...</td>\n",
              "      <td>...</td>\n",
              "      <td>...</td>\n",
              "      <td>...</td>\n",
              "      <td>...</td>\n",
              "      <td>...</td>\n",
              "      <td>...</td>\n",
              "      <td>...</td>\n",
              "      <td>...</td>\n",
              "    </tr>\n",
              "    <tr>\n",
              "      <th>428</th>\n",
              "      <td>All people are fucked up because of these quee...</td>\n",
              "      <td>0</td>\n",
              "      <td>0</td>\n",
              "      <td>1</td>\n",
              "      <td>0</td>\n",
              "      <td>0</td>\n",
              "      <td>0</td>\n",
              "      <td>0</td>\n",
              "      <td>1</td>\n",
              "      <td>[0, 0, 1, 0, 0, 0, 0, 1]</td>\n",
              "    </tr>\n",
              "    <tr>\n",
              "      <th>429</th>\n",
              "      <td>Actually THIS WEIRD PEOPLE are HARMFUL! They n...</td>\n",
              "      <td>0</td>\n",
              "      <td>1</td>\n",
              "      <td>0</td>\n",
              "      <td>0</td>\n",
              "      <td>0</td>\n",
              "      <td>1</td>\n",
              "      <td>0</td>\n",
              "      <td>0</td>\n",
              "      <td>[0, 1, 0, 0, 0, 1, 0, 0]</td>\n",
              "    </tr>\n",
              "    <tr>\n",
              "      <th>430</th>\n",
              "      <td>ABU DA BI ABA DU BA BA HAMUD! See? I’m an arab...</td>\n",
              "      <td>0</td>\n",
              "      <td>0</td>\n",
              "      <td>0</td>\n",
              "      <td>0</td>\n",
              "      <td>0</td>\n",
              "      <td>0</td>\n",
              "      <td>1</td>\n",
              "      <td>0</td>\n",
              "      <td>[0, 0, 0, 0, 0, 0, 1, 0]</td>\n",
              "    </tr>\n",
              "    <tr>\n",
              "      <th>431</th>\n",
              "      <td>a homo? so you fuck your brother instead of yo...</td>\n",
              "      <td>0</td>\n",
              "      <td>1</td>\n",
              "      <td>0</td>\n",
              "      <td>0</td>\n",
              "      <td>0</td>\n",
              "      <td>0</td>\n",
              "      <td>0</td>\n",
              "      <td>1</td>\n",
              "      <td>[0, 1, 0, 0, 0, 0, 0, 1]</td>\n",
              "    </tr>\n",
              "    <tr>\n",
              "      <th>432</th>\n",
              "      <td>(((They))) will be chased out of every white c...</td>\n",
              "      <td>0</td>\n",
              "      <td>0</td>\n",
              "      <td>0</td>\n",
              "      <td>1</td>\n",
              "      <td>0</td>\n",
              "      <td>0</td>\n",
              "      <td>0</td>\n",
              "      <td>0</td>\n",
              "      <td>[0, 0, 0, 1, 0, 0, 0, 0]</td>\n",
              "    </tr>\n",
              "  </tbody>\n",
              "</table>\n",
              "<p>433 rows × 10 columns</p>\n",
              "</div>\n",
              "      <button class=\"colab-df-convert\" onclick=\"convertToInteractive('df-6e7e05c3-911c-4f0e-846d-584ae0eb22d5')\"\n",
              "              title=\"Convert this dataframe to an interactive table.\"\n",
              "              style=\"display:none;\">\n",
              "        \n",
              "  <svg xmlns=\"http://www.w3.org/2000/svg\" height=\"24px\"viewBox=\"0 0 24 24\"\n",
              "       width=\"24px\">\n",
              "    <path d=\"M0 0h24v24H0V0z\" fill=\"none\"/>\n",
              "    <path d=\"M18.56 5.44l.94 2.06.94-2.06 2.06-.94-2.06-.94-.94-2.06-.94 2.06-2.06.94zm-11 1L8.5 8.5l.94-2.06 2.06-.94-2.06-.94L8.5 2.5l-.94 2.06-2.06.94zm10 10l.94 2.06.94-2.06 2.06-.94-2.06-.94-.94-2.06-.94 2.06-2.06.94z\"/><path d=\"M17.41 7.96l-1.37-1.37c-.4-.4-.92-.59-1.43-.59-.52 0-1.04.2-1.43.59L10.3 9.45l-7.72 7.72c-.78.78-.78 2.05 0 2.83L4 21.41c.39.39.9.59 1.41.59.51 0 1.02-.2 1.41-.59l7.78-7.78 2.81-2.81c.8-.78.8-2.07 0-2.86zM5.41 20L4 18.59l7.72-7.72 1.47 1.35L5.41 20z\"/>\n",
              "  </svg>\n",
              "      </button>\n",
              "      \n",
              "  <style>\n",
              "    .colab-df-container {\n",
              "      display:flex;\n",
              "      flex-wrap:wrap;\n",
              "      gap: 12px;\n",
              "    }\n",
              "\n",
              "    .colab-df-convert {\n",
              "      background-color: #E8F0FE;\n",
              "      border: none;\n",
              "      border-radius: 50%;\n",
              "      cursor: pointer;\n",
              "      display: none;\n",
              "      fill: #1967D2;\n",
              "      height: 32px;\n",
              "      padding: 0 0 0 0;\n",
              "      width: 32px;\n",
              "    }\n",
              "\n",
              "    .colab-df-convert:hover {\n",
              "      background-color: #E2EBFA;\n",
              "      box-shadow: 0px 1px 2px rgba(60, 64, 67, 0.3), 0px 1px 3px 1px rgba(60, 64, 67, 0.15);\n",
              "      fill: #174EA6;\n",
              "    }\n",
              "\n",
              "    [theme=dark] .colab-df-convert {\n",
              "      background-color: #3B4455;\n",
              "      fill: #D2E3FC;\n",
              "    }\n",
              "\n",
              "    [theme=dark] .colab-df-convert:hover {\n",
              "      background-color: #434B5C;\n",
              "      box-shadow: 0px 1px 3px 1px rgba(0, 0, 0, 0.15);\n",
              "      filter: drop-shadow(0px 1px 2px rgba(0, 0, 0, 0.3));\n",
              "      fill: #FFFFFF;\n",
              "    }\n",
              "  </style>\n",
              "\n",
              "      <script>\n",
              "        const buttonEl =\n",
              "          document.querySelector('#df-6e7e05c3-911c-4f0e-846d-584ae0eb22d5 button.colab-df-convert');\n",
              "        buttonEl.style.display =\n",
              "          google.colab.kernel.accessAllowed ? 'block' : 'none';\n",
              "\n",
              "        async function convertToInteractive(key) {\n",
              "          const element = document.querySelector('#df-6e7e05c3-911c-4f0e-846d-584ae0eb22d5');\n",
              "          const dataTable =\n",
              "            await google.colab.kernel.invokeFunction('convertToInteractive',\n",
              "                                                     [key], {});\n",
              "          if (!dataTable) return;\n",
              "\n",
              "          const docLinkHtml = 'Like what you see? Visit the ' +\n",
              "            '<a target=\"_blank\" href=https://colab.research.google.com/notebooks/data_table.ipynb>data table notebook</a>'\n",
              "            + ' to learn more about interactive tables.';\n",
              "          element.innerHTML = '';\n",
              "          dataTable['output_type'] = 'display_data';\n",
              "          await google.colab.output.renderOutput(dataTable, element);\n",
              "          const docLink = document.createElement('div');\n",
              "          docLink.innerHTML = docLinkHtml;\n",
              "          element.appendChild(docLink);\n",
              "        }\n",
              "      </script>\n",
              "    </div>\n",
              "  </div>\n",
              "  "
            ]
          },
          "metadata": {},
          "execution_count": 12
        }
      ]
    },
    {
      "cell_type": "code",
      "source": [],
      "metadata": {
        "id": "AD36T-lfIOp-"
      },
      "id": "AD36T-lfIOp-",
      "execution_count": 12,
      "outputs": []
    },
    {
      "cell_type": "markdown",
      "id": "d7e154e9-a255-4d1f-b8ff-53c46f91a142",
      "metadata": {
        "id": "d7e154e9-a255-4d1f-b8ff-53c46f91a142"
      },
      "source": [
        "Next, we use the samples we selected as our training set, and the others as our test set (since the ethos dataset does not have a test split on the hub).\n",
        "\n",
        "Here we have 64 total examples to train with since the `ethos` dataset has 8 classes."
      ]
    },
    {
      "cell_type": "code",
      "execution_count": 13,
      "id": "2bc7f32d-7320-4721-9276-ec37a39d2630",
      "metadata": {
        "id": "2bc7f32d-7320-4721-9276-ec37a39d2630"
      },
      "outputs": [],
      "source": [
        "train_dataset = dataset[\"train\"].select(samples)\n",
        "eval_dataset = dataset[\"train\"].select(\n",
        "    np.setdiff1d(np.arange(len(dataset[\"train\"])), samples)\n",
        ")"
      ]
    },
    {
      "cell_type": "markdown",
      "id": "059bd547-0e39-43ab-adf0-5f5509217020",
      "metadata": {
        "id": "059bd547-0e39-43ab-adf0-5f5509217020"
      },
      "source": [
        "Okay, now we have the dataset, let's load and train a model!"
      ]
    },
    {
      "cell_type": "markdown",
      "id": "37e7c839-1f06-4d35-aa34-6e13659db814",
      "metadata": {
        "id": "37e7c839-1f06-4d35-aa34-6e13659db814"
      },
      "source": [
        "## Fine-tuning the model"
      ]
    },
    {
      "cell_type": "markdown",
      "id": "78e8c41a",
      "metadata": {
        "id": "78e8c41a"
      },
      "source": [
        "To train a SetFit model, the first thing to do is download a pretrained checkpoint from the Hub. We can do so by using the `from_pretrained()` method associated with the `SetFitModel` class.\n",
        "\n",
        "**Note that the `multi_target_strategy` parameter here signals to both the model and the trainer to expect a multi-labelled dataset.**"
      ]
    },
    {
      "cell_type": "code",
      "execution_count": 14,
      "id": "33661c9d-46d3-42eb-9b15-8a2bc49d7f6c",
      "metadata": {
        "id": "33661c9d-46d3-42eb-9b15-8a2bc49d7f6c",
        "outputId": "22847778-4091-4a07-a931-c72a651da05b",
        "colab": {
          "base_uri": "https://localhost:8080/"
        }
      },
      "outputs": [
        {
          "output_type": "stream",
          "name": "stderr",
          "text": [
            "model_head.pkl not found on HuggingFace Hub, initialising classification head with random weights. You should TRAIN this model on a downstream task to use it for predictions and inference.\n"
          ]
        }
      ],
      "source": [
        "from setfit import SetFitModel\n",
        "\n",
        "model = SetFitModel.from_pretrained(model_id, multi_target_strategy=\"one-vs-rest\")"
      ]
    },
    {
      "cell_type": "markdown",
      "id": "84e7521e-95ca-431a-8d7f-2f18e1de16ce",
      "metadata": {
        "id": "84e7521e-95ca-431a-8d7f-2f18e1de16ce"
      },
      "source": [
        "Here, we've downloaded a pretrained Sentence Transformer from the Hub and added a logistic classification head to the create the SetFit model. As indicated in the message, we need to train this model on some labeled examples. We can do so by using the `SetFitTrainer` class as follows:"
      ]
    },
    {
      "cell_type": "code",
      "execution_count": 15,
      "id": "e44b7069-27b0-49ea-bc27-c44f94a98e2f",
      "metadata": {
        "id": "e44b7069-27b0-49ea-bc27-c44f94a98e2f"
      },
      "outputs": [],
      "source": [
        "from sentence_transformers.losses import CosineSimilarityLoss\n",
        "from setfit import SetFitTrainer\n",
        "\n",
        "trainer = SetFitTrainer(\n",
        "    model=model,\n",
        "    train_dataset=train_dataset,\n",
        "    eval_dataset=eval_dataset,\n",
        "    loss_class=CosineSimilarityLoss,\n",
        "    batch_size=8,\n",
        "    num_epochs=1,\n",
        "    num_iterations=20,\n",
        "    column_mapping={\"text\": \"text\", \"labels\": \"label\"},\n",
        ")"
      ]
    },
    {
      "cell_type": "markdown",
      "id": "cbd3e642",
      "metadata": {
        "id": "cbd3e642"
      },
      "source": [
        "The main arguments to notice in the trainer is the following:\n",
        "\n",
        "* `loss_class`: The loss function to use for contrastive learning with the Sentence Transformer body\n",
        "* `num_iterations`: The number of text pairs to generate for contrastive learning\n",
        "* `column_mapping`: The `SetFitTrainer` expects the inputs to be found in a `text` and `label` column. This mapping automatically formats the training and evaluation datasets for us."
      ]
    },
    {
      "cell_type": "markdown",
      "id": "b6e3c5ae-c287-4936-b1ac-5eca10c7f39c",
      "metadata": {
        "id": "b6e3c5ae-c287-4936-b1ac-5eca10c7f39c"
      },
      "source": [
        "Now that we've created a trainer, we can train it!"
      ]
    },
    {
      "cell_type": "code",
      "execution_count": null,
      "id": "6b5a468b-2796-47c3-8907-c0147ee58dd5",
      "metadata": {
        "id": "6b5a468b-2796-47c3-8907-c0147ee58dd5",
        "outputId": "b0d118f9-01b0-436a-9d96-3c3098408d46",
        "colab": {
          "base_uri": "https://localhost:8080/",
          "height": 188,
          "referenced_widgets": [
            "583810bbd33847c492d0a974ed6f7dba",
            "bcf38fe984bf41b58f891f2cfc69c195",
            "443cb0ecd73242b09928c88070239c92",
            "808c413182ac46c88e35527efc92b9a4",
            "4058d55b71574385973443dc4778e1b5",
            "0e0cd959403e4e139c20c1830ee627aa",
            "3d081a77d700475a8e60403b81ea2e92",
            "4e9da1b490e7498496714609862e847e",
            "25b9d0190ef041128804e429fa8fea68",
            "30e24f775956405fa6bc35cbcd570f2a",
            "6a5107eefb6241a7b73f5cdd0a021c3b",
            "060e23cfecde4f8ba4c857dc4d5605f5",
            "46121909be764207b8d9041807bdedd0",
            "c7d78341a4444fd3a0d993c28b93b275",
            "77c68725dcce4d94af4075c1680cbca9",
            "d5848474f6894bcf8353a619b40d94ba",
            "68cbe85fd9ec4080b8d528792f538e64",
            "febea4d4c2c74e079384effa2010101d",
            "960d93bf01b9465da21eb7fab86127be",
            "63d89132f433449e918953f74a5fc378",
            "324c87d4e53343e699debeed78e3dc81",
            "b9754fb94abb40bca4132ddc5700ae0d"
          ]
        }
      },
      "outputs": [
        {
          "output_type": "stream",
          "name": "stderr",
          "text": [
            "Applying column mapping to training dataset\n",
            "***** Running training *****\n",
            "  Num examples = 3780\n",
            "  Num epochs = 1\n",
            "  Total optimization steps = 473\n",
            "  Total train batch size = 8\n"
          ]
        },
        {
          "output_type": "display_data",
          "data": {
            "text/plain": [
              "Epoch:   0%|          | 0/1 [00:00<?, ?it/s]"
            ],
            "application/vnd.jupyter.widget-view+json": {
              "version_major": 2,
              "version_minor": 0,
              "model_id": "583810bbd33847c492d0a974ed6f7dba"
            }
          },
          "metadata": {}
        },
        {
          "output_type": "display_data",
          "data": {
            "text/plain": [
              "Iteration:   0%|          | 0/473 [00:00<?, ?it/s]"
            ],
            "application/vnd.jupyter.widget-view+json": {
              "version_major": 2,
              "version_minor": 0,
              "model_id": "060e23cfecde4f8ba4c857dc4d5605f5"
            }
          },
          "metadata": {}
        }
      ],
      "source": [
        "trainer.train()"
      ]
    },
    {
      "cell_type": "markdown",
      "id": "e799f994",
      "metadata": {
        "id": "e799f994"
      },
      "source": [
        "The final step is to compute the model's performance using the `evaluate()` method. The default metric measures 'subset accuracy', which measures the fraction of samples where we predict all 8 labels correctly."
      ]
    },
    {
      "cell_type": "code",
      "execution_count": null,
      "id": "453c11d0-a1e4-49c2-859a-cc70e033b4a6",
      "metadata": {
        "id": "453c11d0-a1e4-49c2-859a-cc70e033b4a6"
      },
      "outputs": [],
      "source": [
        "metrics = trainer.evaluate()\n",
        "metrics"
      ]
    },
    {
      "cell_type": "markdown",
      "id": "f021b168-02d2-4cc8-942d-65d3b821e253",
      "metadata": {
        "id": "f021b168-02d2-4cc8-942d-65d3b821e253"
      },
      "source": [
        "And once the model is trained, you can push it to the Hub:"
      ]
    },
    {
      "cell_type": "code",
      "execution_count": null,
      "id": "c420c4b9-1552-45a5-888c-cdbb78f8e4fc",
      "metadata": {
        "scrolled": true,
        "id": "c420c4b9-1552-45a5-888c-cdbb78f8e4fc"
      },
      "outputs": [],
      "source": [
        "trainer.push_to_hub(f\"setfit-ethos-multilabel-example\")"
      ]
    },
    {
      "cell_type": "markdown",
      "id": "02173d18-4874-4148-8789-90ac695717bc",
      "metadata": {
        "id": "02173d18-4874-4148-8789-90ac695717bc"
      },
      "source": [
        "You can now share this model with all your friends, family, favorite pets: they can all load it with the identifier `your-username/the-name-you-picked` so for instance:"
      ]
    },
    {
      "cell_type": "code",
      "execution_count": null,
      "id": "2b5e5623-0452-4d36-8eb0-cfb36c8664da",
      "metadata": {
        "id": "2b5e5623-0452-4d36-8eb0-cfb36c8664da"
      },
      "outputs": [],
      "source": [
        "from setfit import SetFitModel\n",
        "model = SetFitModel.from_pretrained(\"lewtun/setfit-ethos-multilabel-example\")"
      ]
    },
    {
      "cell_type": "markdown",
      "id": "d9f0e4e5-6645-4306-a9ab-06d0db9e23d0",
      "metadata": {
        "id": "d9f0e4e5-6645-4306-a9ab-06d0db9e23d0"
      },
      "source": [
        "Run inference. As is usual in toxicity models, it tends to think any mention of topics such as race or gender are negative."
      ]
    },
    {
      "cell_type": "code",
      "execution_count": null,
      "id": "6e51180c-5a62-4dfa-a543-334982db2d69",
      "metadata": {
        "id": "6e51180c-5a62-4dfa-a543-334982db2d69"
      },
      "outputs": [],
      "source": [
        "preds = model(\n",
        "    [\n",
        "        \"Jewish people often don't eat pork.\",\n",
        "        \"Is this lipstick suitable for people with dark skin?\"\n",
        "    ]\n",
        ")\n",
        "preds"
      ]
    },
    {
      "cell_type": "code",
      "execution_count": null,
      "id": "ebc14708-c4f6-4137-b972-ac8c257bcb9d",
      "metadata": {
        "id": "ebc14708-c4f6-4137-b972-ac8c257bcb9d"
      },
      "outputs": [],
      "source": [
        "# Show predicted labels, requires you to have stored the 'features' somewhere\n",
        "[[f for f, p in zip(features, ps) if p] for ps in preds]"
      ]
    },
    {
      "cell_type": "code",
      "execution_count": null,
      "id": "e24010af-dd8e-427c-b11d-e6f1d557d0ca",
      "metadata": {
        "id": "e24010af-dd8e-427c-b11d-e6f1d557d0ca"
      },
      "outputs": [],
      "source": []
    }
  ],
  "metadata": {
    "kernelspec": {
      "display_name": "Python 3 (ipykernel)",
      "language": "python",
      "name": "python3"
    },
    "language_info": {
      "codemirror_mode": {
        "name": "ipython",
        "version": 3
      },
      "file_extension": ".py",
      "mimetype": "text/x-python",
      "name": "python",
      "nbconvert_exporter": "python",
      "pygments_lexer": "ipython3",
      "version": "3.10.7"
    },
    "colab": {
      "provenance": []
    },
    "widgets": {
      "application/vnd.jupyter.widget-state+json": {
        "7e53533fe27640bf81591032173e2e70": {
          "model_module": "@jupyter-widgets/controls",
          "model_name": "HBoxModel",
          "model_module_version": "1.5.0",
          "state": {
            "_dom_classes": [],
            "_model_module": "@jupyter-widgets/controls",
            "_model_module_version": "1.5.0",
            "_model_name": "HBoxModel",
            "_view_count": null,
            "_view_module": "@jupyter-widgets/controls",
            "_view_module_version": "1.5.0",
            "_view_name": "HBoxView",
            "box_style": "",
            "children": [
              "IPY_MODEL_7779cb47ae004d74a1f6ee84b0ae16ae",
              "IPY_MODEL_24ad5b713527490988a17f123328abd6",
              "IPY_MODEL_9c04f4a191c94c35bef4e867066d7872"
            ],
            "layout": "IPY_MODEL_8786b532194948bf855f88672622bb63"
          }
        },
        "7779cb47ae004d74a1f6ee84b0ae16ae": {
          "model_module": "@jupyter-widgets/controls",
          "model_name": "HTMLModel",
          "model_module_version": "1.5.0",
          "state": {
            "_dom_classes": [],
            "_model_module": "@jupyter-widgets/controls",
            "_model_module_version": "1.5.0",
            "_model_name": "HTMLModel",
            "_view_count": null,
            "_view_module": "@jupyter-widgets/controls",
            "_view_module_version": "1.5.0",
            "_view_name": "HTMLView",
            "description": "",
            "description_tooltip": null,
            "layout": "IPY_MODEL_8360df852c9f47d48486f7b8a315b02b",
            "placeholder": "​",
            "style": "IPY_MODEL_9a2278f866c24c0e8a04636c680139f6",
            "value": "100%"
          }
        },
        "24ad5b713527490988a17f123328abd6": {
          "model_module": "@jupyter-widgets/controls",
          "model_name": "FloatProgressModel",
          "model_module_version": "1.5.0",
          "state": {
            "_dom_classes": [],
            "_model_module": "@jupyter-widgets/controls",
            "_model_module_version": "1.5.0",
            "_model_name": "FloatProgressModel",
            "_view_count": null,
            "_view_module": "@jupyter-widgets/controls",
            "_view_module_version": "1.5.0",
            "_view_name": "ProgressView",
            "bar_style": "success",
            "description": "",
            "description_tooltip": null,
            "layout": "IPY_MODEL_cb9097e39def450c8f36cb7e01f47315",
            "max": 1,
            "min": 0,
            "orientation": "horizontal",
            "style": "IPY_MODEL_72f3cda726ff4968be4fd4daaa1e3b3f",
            "value": 1
          }
        },
        "9c04f4a191c94c35bef4e867066d7872": {
          "model_module": "@jupyter-widgets/controls",
          "model_name": "HTMLModel",
          "model_module_version": "1.5.0",
          "state": {
            "_dom_classes": [],
            "_model_module": "@jupyter-widgets/controls",
            "_model_module_version": "1.5.0",
            "_model_name": "HTMLModel",
            "_view_count": null,
            "_view_module": "@jupyter-widgets/controls",
            "_view_module_version": "1.5.0",
            "_view_name": "HTMLView",
            "description": "",
            "description_tooltip": null,
            "layout": "IPY_MODEL_4ad6435ba89a465d8b4ac6cbe97b09a3",
            "placeholder": "​",
            "style": "IPY_MODEL_acf0f80ec25b404fad79898c6fd478f8",
            "value": " 1/1 [00:00&lt;00:00,  5.62it/s]"
          }
        },
        "8786b532194948bf855f88672622bb63": {
          "model_module": "@jupyter-widgets/base",
          "model_name": "LayoutModel",
          "model_module_version": "1.2.0",
          "state": {
            "_model_module": "@jupyter-widgets/base",
            "_model_module_version": "1.2.0",
            "_model_name": "LayoutModel",
            "_view_count": null,
            "_view_module": "@jupyter-widgets/base",
            "_view_module_version": "1.2.0",
            "_view_name": "LayoutView",
            "align_content": null,
            "align_items": null,
            "align_self": null,
            "border": null,
            "bottom": null,
            "display": null,
            "flex": null,
            "flex_flow": null,
            "grid_area": null,
            "grid_auto_columns": null,
            "grid_auto_flow": null,
            "grid_auto_rows": null,
            "grid_column": null,
            "grid_gap": null,
            "grid_row": null,
            "grid_template_areas": null,
            "grid_template_columns": null,
            "grid_template_rows": null,
            "height": null,
            "justify_content": null,
            "justify_items": null,
            "left": null,
            "margin": null,
            "max_height": null,
            "max_width": null,
            "min_height": null,
            "min_width": null,
            "object_fit": null,
            "object_position": null,
            "order": null,
            "overflow": null,
            "overflow_x": null,
            "overflow_y": null,
            "padding": null,
            "right": null,
            "top": null,
            "visibility": null,
            "width": null
          }
        },
        "8360df852c9f47d48486f7b8a315b02b": {
          "model_module": "@jupyter-widgets/base",
          "model_name": "LayoutModel",
          "model_module_version": "1.2.0",
          "state": {
            "_model_module": "@jupyter-widgets/base",
            "_model_module_version": "1.2.0",
            "_model_name": "LayoutModel",
            "_view_count": null,
            "_view_module": "@jupyter-widgets/base",
            "_view_module_version": "1.2.0",
            "_view_name": "LayoutView",
            "align_content": null,
            "align_items": null,
            "align_self": null,
            "border": null,
            "bottom": null,
            "display": null,
            "flex": null,
            "flex_flow": null,
            "grid_area": null,
            "grid_auto_columns": null,
            "grid_auto_flow": null,
            "grid_auto_rows": null,
            "grid_column": null,
            "grid_gap": null,
            "grid_row": null,
            "grid_template_areas": null,
            "grid_template_columns": null,
            "grid_template_rows": null,
            "height": null,
            "justify_content": null,
            "justify_items": null,
            "left": null,
            "margin": null,
            "max_height": null,
            "max_width": null,
            "min_height": null,
            "min_width": null,
            "object_fit": null,
            "object_position": null,
            "order": null,
            "overflow": null,
            "overflow_x": null,
            "overflow_y": null,
            "padding": null,
            "right": null,
            "top": null,
            "visibility": null,
            "width": null
          }
        },
        "9a2278f866c24c0e8a04636c680139f6": {
          "model_module": "@jupyter-widgets/controls",
          "model_name": "DescriptionStyleModel",
          "model_module_version": "1.5.0",
          "state": {
            "_model_module": "@jupyter-widgets/controls",
            "_model_module_version": "1.5.0",
            "_model_name": "DescriptionStyleModel",
            "_view_count": null,
            "_view_module": "@jupyter-widgets/base",
            "_view_module_version": "1.2.0",
            "_view_name": "StyleView",
            "description_width": ""
          }
        },
        "cb9097e39def450c8f36cb7e01f47315": {
          "model_module": "@jupyter-widgets/base",
          "model_name": "LayoutModel",
          "model_module_version": "1.2.0",
          "state": {
            "_model_module": "@jupyter-widgets/base",
            "_model_module_version": "1.2.0",
            "_model_name": "LayoutModel",
            "_view_count": null,
            "_view_module": "@jupyter-widgets/base",
            "_view_module_version": "1.2.0",
            "_view_name": "LayoutView",
            "align_content": null,
            "align_items": null,
            "align_self": null,
            "border": null,
            "bottom": null,
            "display": null,
            "flex": null,
            "flex_flow": null,
            "grid_area": null,
            "grid_auto_columns": null,
            "grid_auto_flow": null,
            "grid_auto_rows": null,
            "grid_column": null,
            "grid_gap": null,
            "grid_row": null,
            "grid_template_areas": null,
            "grid_template_columns": null,
            "grid_template_rows": null,
            "height": null,
            "justify_content": null,
            "justify_items": null,
            "left": null,
            "margin": null,
            "max_height": null,
            "max_width": null,
            "min_height": null,
            "min_width": null,
            "object_fit": null,
            "object_position": null,
            "order": null,
            "overflow": null,
            "overflow_x": null,
            "overflow_y": null,
            "padding": null,
            "right": null,
            "top": null,
            "visibility": null,
            "width": null
          }
        },
        "72f3cda726ff4968be4fd4daaa1e3b3f": {
          "model_module": "@jupyter-widgets/controls",
          "model_name": "ProgressStyleModel",
          "model_module_version": "1.5.0",
          "state": {
            "_model_module": "@jupyter-widgets/controls",
            "_model_module_version": "1.5.0",
            "_model_name": "ProgressStyleModel",
            "_view_count": null,
            "_view_module": "@jupyter-widgets/base",
            "_view_module_version": "1.2.0",
            "_view_name": "StyleView",
            "bar_color": null,
            "description_width": ""
          }
        },
        "4ad6435ba89a465d8b4ac6cbe97b09a3": {
          "model_module": "@jupyter-widgets/base",
          "model_name": "LayoutModel",
          "model_module_version": "1.2.0",
          "state": {
            "_model_module": "@jupyter-widgets/base",
            "_model_module_version": "1.2.0",
            "_model_name": "LayoutModel",
            "_view_count": null,
            "_view_module": "@jupyter-widgets/base",
            "_view_module_version": "1.2.0",
            "_view_name": "LayoutView",
            "align_content": null,
            "align_items": null,
            "align_self": null,
            "border": null,
            "bottom": null,
            "display": null,
            "flex": null,
            "flex_flow": null,
            "grid_area": null,
            "grid_auto_columns": null,
            "grid_auto_flow": null,
            "grid_auto_rows": null,
            "grid_column": null,
            "grid_gap": null,
            "grid_row": null,
            "grid_template_areas": null,
            "grid_template_columns": null,
            "grid_template_rows": null,
            "height": null,
            "justify_content": null,
            "justify_items": null,
            "left": null,
            "margin": null,
            "max_height": null,
            "max_width": null,
            "min_height": null,
            "min_width": null,
            "object_fit": null,
            "object_position": null,
            "order": null,
            "overflow": null,
            "overflow_x": null,
            "overflow_y": null,
            "padding": null,
            "right": null,
            "top": null,
            "visibility": null,
            "width": null
          }
        },
        "acf0f80ec25b404fad79898c6fd478f8": {
          "model_module": "@jupyter-widgets/controls",
          "model_name": "DescriptionStyleModel",
          "model_module_version": "1.5.0",
          "state": {
            "_model_module": "@jupyter-widgets/controls",
            "_model_module_version": "1.5.0",
            "_model_name": "DescriptionStyleModel",
            "_view_count": null,
            "_view_module": "@jupyter-widgets/base",
            "_view_module_version": "1.2.0",
            "_view_name": "StyleView",
            "description_width": ""
          }
        },
        "a93cec8d24274199b9ba2a29cb844719": {
          "model_module": "@jupyter-widgets/controls",
          "model_name": "HBoxModel",
          "model_module_version": "1.5.0",
          "state": {
            "_dom_classes": [],
            "_model_module": "@jupyter-widgets/controls",
            "_model_module_version": "1.5.0",
            "_model_name": "HBoxModel",
            "_view_count": null,
            "_view_module": "@jupyter-widgets/controls",
            "_view_module_version": "1.5.0",
            "_view_name": "HBoxView",
            "box_style": "",
            "children": [
              "IPY_MODEL_ca0c5e209149438da88244f086cab9a4",
              "IPY_MODEL_a6436ca116564b9880b7c5d5873f6e8f",
              "IPY_MODEL_f69a14aaa8124c2d8645604f35d6ab4c"
            ],
            "layout": "IPY_MODEL_8fad8ea434ba45e28fd28ef97c2d54bd"
          }
        },
        "ca0c5e209149438da88244f086cab9a4": {
          "model_module": "@jupyter-widgets/controls",
          "model_name": "HTMLModel",
          "model_module_version": "1.5.0",
          "state": {
            "_dom_classes": [],
            "_model_module": "@jupyter-widgets/controls",
            "_model_module_version": "1.5.0",
            "_model_name": "HTMLModel",
            "_view_count": null,
            "_view_module": "@jupyter-widgets/controls",
            "_view_module_version": "1.5.0",
            "_view_name": "HTMLView",
            "description": "",
            "description_tooltip": null,
            "layout": "IPY_MODEL_c5767880c0b54ba18b5abd721773efe2",
            "placeholder": "​",
            "style": "IPY_MODEL_519433f3bfaa461db04f242963fe0eb2",
            "value": "100%"
          }
        },
        "a6436ca116564b9880b7c5d5873f6e8f": {
          "model_module": "@jupyter-widgets/controls",
          "model_name": "FloatProgressModel",
          "model_module_version": "1.5.0",
          "state": {
            "_dom_classes": [],
            "_model_module": "@jupyter-widgets/controls",
            "_model_module_version": "1.5.0",
            "_model_name": "FloatProgressModel",
            "_view_count": null,
            "_view_module": "@jupyter-widgets/controls",
            "_view_module_version": "1.5.0",
            "_view_name": "ProgressView",
            "bar_style": "success",
            "description": "",
            "description_tooltip": null,
            "layout": "IPY_MODEL_163b6367f0b54386aa55b28b288c7d48",
            "max": 433,
            "min": 0,
            "orientation": "horizontal",
            "style": "IPY_MODEL_648837a063f14d4f8ab3fa0bc2d16683",
            "value": 433
          }
        },
        "f69a14aaa8124c2d8645604f35d6ab4c": {
          "model_module": "@jupyter-widgets/controls",
          "model_name": "HTMLModel",
          "model_module_version": "1.5.0",
          "state": {
            "_dom_classes": [],
            "_model_module": "@jupyter-widgets/controls",
            "_model_module_version": "1.5.0",
            "_model_name": "HTMLModel",
            "_view_count": null,
            "_view_module": "@jupyter-widgets/controls",
            "_view_module_version": "1.5.0",
            "_view_name": "HTMLView",
            "description": "",
            "description_tooltip": null,
            "layout": "IPY_MODEL_047ed1fc17054f739557f262bb979a0d",
            "placeholder": "​",
            "style": "IPY_MODEL_990c3b5942034b2496f4eaeefd5b2f4e",
            "value": " 433/433 [00:00&lt;00:00, 1727.27ex/s]"
          }
        },
        "8fad8ea434ba45e28fd28ef97c2d54bd": {
          "model_module": "@jupyter-widgets/base",
          "model_name": "LayoutModel",
          "model_module_version": "1.2.0",
          "state": {
            "_model_module": "@jupyter-widgets/base",
            "_model_module_version": "1.2.0",
            "_model_name": "LayoutModel",
            "_view_count": null,
            "_view_module": "@jupyter-widgets/base",
            "_view_module_version": "1.2.0",
            "_view_name": "LayoutView",
            "align_content": null,
            "align_items": null,
            "align_self": null,
            "border": null,
            "bottom": null,
            "display": null,
            "flex": null,
            "flex_flow": null,
            "grid_area": null,
            "grid_auto_columns": null,
            "grid_auto_flow": null,
            "grid_auto_rows": null,
            "grid_column": null,
            "grid_gap": null,
            "grid_row": null,
            "grid_template_areas": null,
            "grid_template_columns": null,
            "grid_template_rows": null,
            "height": null,
            "justify_content": null,
            "justify_items": null,
            "left": null,
            "margin": null,
            "max_height": null,
            "max_width": null,
            "min_height": null,
            "min_width": null,
            "object_fit": null,
            "object_position": null,
            "order": null,
            "overflow": null,
            "overflow_x": null,
            "overflow_y": null,
            "padding": null,
            "right": null,
            "top": null,
            "visibility": null,
            "width": null
          }
        },
        "c5767880c0b54ba18b5abd721773efe2": {
          "model_module": "@jupyter-widgets/base",
          "model_name": "LayoutModel",
          "model_module_version": "1.2.0",
          "state": {
            "_model_module": "@jupyter-widgets/base",
            "_model_module_version": "1.2.0",
            "_model_name": "LayoutModel",
            "_view_count": null,
            "_view_module": "@jupyter-widgets/base",
            "_view_module_version": "1.2.0",
            "_view_name": "LayoutView",
            "align_content": null,
            "align_items": null,
            "align_self": null,
            "border": null,
            "bottom": null,
            "display": null,
            "flex": null,
            "flex_flow": null,
            "grid_area": null,
            "grid_auto_columns": null,
            "grid_auto_flow": null,
            "grid_auto_rows": null,
            "grid_column": null,
            "grid_gap": null,
            "grid_row": null,
            "grid_template_areas": null,
            "grid_template_columns": null,
            "grid_template_rows": null,
            "height": null,
            "justify_content": null,
            "justify_items": null,
            "left": null,
            "margin": null,
            "max_height": null,
            "max_width": null,
            "min_height": null,
            "min_width": null,
            "object_fit": null,
            "object_position": null,
            "order": null,
            "overflow": null,
            "overflow_x": null,
            "overflow_y": null,
            "padding": null,
            "right": null,
            "top": null,
            "visibility": null,
            "width": null
          }
        },
        "519433f3bfaa461db04f242963fe0eb2": {
          "model_module": "@jupyter-widgets/controls",
          "model_name": "DescriptionStyleModel",
          "model_module_version": "1.5.0",
          "state": {
            "_model_module": "@jupyter-widgets/controls",
            "_model_module_version": "1.5.0",
            "_model_name": "DescriptionStyleModel",
            "_view_count": null,
            "_view_module": "@jupyter-widgets/base",
            "_view_module_version": "1.2.0",
            "_view_name": "StyleView",
            "description_width": ""
          }
        },
        "163b6367f0b54386aa55b28b288c7d48": {
          "model_module": "@jupyter-widgets/base",
          "model_name": "LayoutModel",
          "model_module_version": "1.2.0",
          "state": {
            "_model_module": "@jupyter-widgets/base",
            "_model_module_version": "1.2.0",
            "_model_name": "LayoutModel",
            "_view_count": null,
            "_view_module": "@jupyter-widgets/base",
            "_view_module_version": "1.2.0",
            "_view_name": "LayoutView",
            "align_content": null,
            "align_items": null,
            "align_self": null,
            "border": null,
            "bottom": null,
            "display": null,
            "flex": null,
            "flex_flow": null,
            "grid_area": null,
            "grid_auto_columns": null,
            "grid_auto_flow": null,
            "grid_auto_rows": null,
            "grid_column": null,
            "grid_gap": null,
            "grid_row": null,
            "grid_template_areas": null,
            "grid_template_columns": null,
            "grid_template_rows": null,
            "height": null,
            "justify_content": null,
            "justify_items": null,
            "left": null,
            "margin": null,
            "max_height": null,
            "max_width": null,
            "min_height": null,
            "min_width": null,
            "object_fit": null,
            "object_position": null,
            "order": null,
            "overflow": null,
            "overflow_x": null,
            "overflow_y": null,
            "padding": null,
            "right": null,
            "top": null,
            "visibility": null,
            "width": null
          }
        },
        "648837a063f14d4f8ab3fa0bc2d16683": {
          "model_module": "@jupyter-widgets/controls",
          "model_name": "ProgressStyleModel",
          "model_module_version": "1.5.0",
          "state": {
            "_model_module": "@jupyter-widgets/controls",
            "_model_module_version": "1.5.0",
            "_model_name": "ProgressStyleModel",
            "_view_count": null,
            "_view_module": "@jupyter-widgets/base",
            "_view_module_version": "1.2.0",
            "_view_name": "StyleView",
            "bar_color": null,
            "description_width": ""
          }
        },
        "047ed1fc17054f739557f262bb979a0d": {
          "model_module": "@jupyter-widgets/base",
          "model_name": "LayoutModel",
          "model_module_version": "1.2.0",
          "state": {
            "_model_module": "@jupyter-widgets/base",
            "_model_module_version": "1.2.0",
            "_model_name": "LayoutModel",
            "_view_count": null,
            "_view_module": "@jupyter-widgets/base",
            "_view_module_version": "1.2.0",
            "_view_name": "LayoutView",
            "align_content": null,
            "align_items": null,
            "align_self": null,
            "border": null,
            "bottom": null,
            "display": null,
            "flex": null,
            "flex_flow": null,
            "grid_area": null,
            "grid_auto_columns": null,
            "grid_auto_flow": null,
            "grid_auto_rows": null,
            "grid_column": null,
            "grid_gap": null,
            "grid_row": null,
            "grid_template_areas": null,
            "grid_template_columns": null,
            "grid_template_rows": null,
            "height": null,
            "justify_content": null,
            "justify_items": null,
            "left": null,
            "margin": null,
            "max_height": null,
            "max_width": null,
            "min_height": null,
            "min_width": null,
            "object_fit": null,
            "object_position": null,
            "order": null,
            "overflow": null,
            "overflow_x": null,
            "overflow_y": null,
            "padding": null,
            "right": null,
            "top": null,
            "visibility": null,
            "width": null
          }
        },
        "990c3b5942034b2496f4eaeefd5b2f4e": {
          "model_module": "@jupyter-widgets/controls",
          "model_name": "DescriptionStyleModel",
          "model_module_version": "1.5.0",
          "state": {
            "_model_module": "@jupyter-widgets/controls",
            "_model_module_version": "1.5.0",
            "_model_name": "DescriptionStyleModel",
            "_view_count": null,
            "_view_module": "@jupyter-widgets/base",
            "_view_module_version": "1.2.0",
            "_view_name": "StyleView",
            "description_width": ""
          }
        },
        "583810bbd33847c492d0a974ed6f7dba": {
          "model_module": "@jupyter-widgets/controls",
          "model_name": "HBoxModel",
          "model_module_version": "1.5.0",
          "state": {
            "_dom_classes": [],
            "_model_module": "@jupyter-widgets/controls",
            "_model_module_version": "1.5.0",
            "_model_name": "HBoxModel",
            "_view_count": null,
            "_view_module": "@jupyter-widgets/controls",
            "_view_module_version": "1.5.0",
            "_view_name": "HBoxView",
            "box_style": "",
            "children": [
              "IPY_MODEL_bcf38fe984bf41b58f891f2cfc69c195",
              "IPY_MODEL_443cb0ecd73242b09928c88070239c92",
              "IPY_MODEL_808c413182ac46c88e35527efc92b9a4"
            ],
            "layout": "IPY_MODEL_4058d55b71574385973443dc4778e1b5"
          }
        },
        "bcf38fe984bf41b58f891f2cfc69c195": {
          "model_module": "@jupyter-widgets/controls",
          "model_name": "HTMLModel",
          "model_module_version": "1.5.0",
          "state": {
            "_dom_classes": [],
            "_model_module": "@jupyter-widgets/controls",
            "_model_module_version": "1.5.0",
            "_model_name": "HTMLModel",
            "_view_count": null,
            "_view_module": "@jupyter-widgets/controls",
            "_view_module_version": "1.5.0",
            "_view_name": "HTMLView",
            "description": "",
            "description_tooltip": null,
            "layout": "IPY_MODEL_0e0cd959403e4e139c20c1830ee627aa",
            "placeholder": "​",
            "style": "IPY_MODEL_3d081a77d700475a8e60403b81ea2e92",
            "value": "Epoch:   0%"
          }
        },
        "443cb0ecd73242b09928c88070239c92": {
          "model_module": "@jupyter-widgets/controls",
          "model_name": "FloatProgressModel",
          "model_module_version": "1.5.0",
          "state": {
            "_dom_classes": [],
            "_model_module": "@jupyter-widgets/controls",
            "_model_module_version": "1.5.0",
            "_model_name": "FloatProgressModel",
            "_view_count": null,
            "_view_module": "@jupyter-widgets/controls",
            "_view_module_version": "1.5.0",
            "_view_name": "ProgressView",
            "bar_style": "",
            "description": "",
            "description_tooltip": null,
            "layout": "IPY_MODEL_4e9da1b490e7498496714609862e847e",
            "max": 1,
            "min": 0,
            "orientation": "horizontal",
            "style": "IPY_MODEL_25b9d0190ef041128804e429fa8fea68",
            "value": 0
          }
        },
        "808c413182ac46c88e35527efc92b9a4": {
          "model_module": "@jupyter-widgets/controls",
          "model_name": "HTMLModel",
          "model_module_version": "1.5.0",
          "state": {
            "_dom_classes": [],
            "_model_module": "@jupyter-widgets/controls",
            "_model_module_version": "1.5.0",
            "_model_name": "HTMLModel",
            "_view_count": null,
            "_view_module": "@jupyter-widgets/controls",
            "_view_module_version": "1.5.0",
            "_view_name": "HTMLView",
            "description": "",
            "description_tooltip": null,
            "layout": "IPY_MODEL_30e24f775956405fa6bc35cbcd570f2a",
            "placeholder": "​",
            "style": "IPY_MODEL_6a5107eefb6241a7b73f5cdd0a021c3b",
            "value": " 0/1 [00:00&lt;?, ?it/s]"
          }
        },
        "4058d55b71574385973443dc4778e1b5": {
          "model_module": "@jupyter-widgets/base",
          "model_name": "LayoutModel",
          "model_module_version": "1.2.0",
          "state": {
            "_model_module": "@jupyter-widgets/base",
            "_model_module_version": "1.2.0",
            "_model_name": "LayoutModel",
            "_view_count": null,
            "_view_module": "@jupyter-widgets/base",
            "_view_module_version": "1.2.0",
            "_view_name": "LayoutView",
            "align_content": null,
            "align_items": null,
            "align_self": null,
            "border": null,
            "bottom": null,
            "display": null,
            "flex": null,
            "flex_flow": null,
            "grid_area": null,
            "grid_auto_columns": null,
            "grid_auto_flow": null,
            "grid_auto_rows": null,
            "grid_column": null,
            "grid_gap": null,
            "grid_row": null,
            "grid_template_areas": null,
            "grid_template_columns": null,
            "grid_template_rows": null,
            "height": null,
            "justify_content": null,
            "justify_items": null,
            "left": null,
            "margin": null,
            "max_height": null,
            "max_width": null,
            "min_height": null,
            "min_width": null,
            "object_fit": null,
            "object_position": null,
            "order": null,
            "overflow": null,
            "overflow_x": null,
            "overflow_y": null,
            "padding": null,
            "right": null,
            "top": null,
            "visibility": null,
            "width": null
          }
        },
        "0e0cd959403e4e139c20c1830ee627aa": {
          "model_module": "@jupyter-widgets/base",
          "model_name": "LayoutModel",
          "model_module_version": "1.2.0",
          "state": {
            "_model_module": "@jupyter-widgets/base",
            "_model_module_version": "1.2.0",
            "_model_name": "LayoutModel",
            "_view_count": null,
            "_view_module": "@jupyter-widgets/base",
            "_view_module_version": "1.2.0",
            "_view_name": "LayoutView",
            "align_content": null,
            "align_items": null,
            "align_self": null,
            "border": null,
            "bottom": null,
            "display": null,
            "flex": null,
            "flex_flow": null,
            "grid_area": null,
            "grid_auto_columns": null,
            "grid_auto_flow": null,
            "grid_auto_rows": null,
            "grid_column": null,
            "grid_gap": null,
            "grid_row": null,
            "grid_template_areas": null,
            "grid_template_columns": null,
            "grid_template_rows": null,
            "height": null,
            "justify_content": null,
            "justify_items": null,
            "left": null,
            "margin": null,
            "max_height": null,
            "max_width": null,
            "min_height": null,
            "min_width": null,
            "object_fit": null,
            "object_position": null,
            "order": null,
            "overflow": null,
            "overflow_x": null,
            "overflow_y": null,
            "padding": null,
            "right": null,
            "top": null,
            "visibility": null,
            "width": null
          }
        },
        "3d081a77d700475a8e60403b81ea2e92": {
          "model_module": "@jupyter-widgets/controls",
          "model_name": "DescriptionStyleModel",
          "model_module_version": "1.5.0",
          "state": {
            "_model_module": "@jupyter-widgets/controls",
            "_model_module_version": "1.5.0",
            "_model_name": "DescriptionStyleModel",
            "_view_count": null,
            "_view_module": "@jupyter-widgets/base",
            "_view_module_version": "1.2.0",
            "_view_name": "StyleView",
            "description_width": ""
          }
        },
        "4e9da1b490e7498496714609862e847e": {
          "model_module": "@jupyter-widgets/base",
          "model_name": "LayoutModel",
          "model_module_version": "1.2.0",
          "state": {
            "_model_module": "@jupyter-widgets/base",
            "_model_module_version": "1.2.0",
            "_model_name": "LayoutModel",
            "_view_count": null,
            "_view_module": "@jupyter-widgets/base",
            "_view_module_version": "1.2.0",
            "_view_name": "LayoutView",
            "align_content": null,
            "align_items": null,
            "align_self": null,
            "border": null,
            "bottom": null,
            "display": null,
            "flex": null,
            "flex_flow": null,
            "grid_area": null,
            "grid_auto_columns": null,
            "grid_auto_flow": null,
            "grid_auto_rows": null,
            "grid_column": null,
            "grid_gap": null,
            "grid_row": null,
            "grid_template_areas": null,
            "grid_template_columns": null,
            "grid_template_rows": null,
            "height": null,
            "justify_content": null,
            "justify_items": null,
            "left": null,
            "margin": null,
            "max_height": null,
            "max_width": null,
            "min_height": null,
            "min_width": null,
            "object_fit": null,
            "object_position": null,
            "order": null,
            "overflow": null,
            "overflow_x": null,
            "overflow_y": null,
            "padding": null,
            "right": null,
            "top": null,
            "visibility": null,
            "width": null
          }
        },
        "25b9d0190ef041128804e429fa8fea68": {
          "model_module": "@jupyter-widgets/controls",
          "model_name": "ProgressStyleModel",
          "model_module_version": "1.5.0",
          "state": {
            "_model_module": "@jupyter-widgets/controls",
            "_model_module_version": "1.5.0",
            "_model_name": "ProgressStyleModel",
            "_view_count": null,
            "_view_module": "@jupyter-widgets/base",
            "_view_module_version": "1.2.0",
            "_view_name": "StyleView",
            "bar_color": null,
            "description_width": ""
          }
        },
        "30e24f775956405fa6bc35cbcd570f2a": {
          "model_module": "@jupyter-widgets/base",
          "model_name": "LayoutModel",
          "model_module_version": "1.2.0",
          "state": {
            "_model_module": "@jupyter-widgets/base",
            "_model_module_version": "1.2.0",
            "_model_name": "LayoutModel",
            "_view_count": null,
            "_view_module": "@jupyter-widgets/base",
            "_view_module_version": "1.2.0",
            "_view_name": "LayoutView",
            "align_content": null,
            "align_items": null,
            "align_self": null,
            "border": null,
            "bottom": null,
            "display": null,
            "flex": null,
            "flex_flow": null,
            "grid_area": null,
            "grid_auto_columns": null,
            "grid_auto_flow": null,
            "grid_auto_rows": null,
            "grid_column": null,
            "grid_gap": null,
            "grid_row": null,
            "grid_template_areas": null,
            "grid_template_columns": null,
            "grid_template_rows": null,
            "height": null,
            "justify_content": null,
            "justify_items": null,
            "left": null,
            "margin": null,
            "max_height": null,
            "max_width": null,
            "min_height": null,
            "min_width": null,
            "object_fit": null,
            "object_position": null,
            "order": null,
            "overflow": null,
            "overflow_x": null,
            "overflow_y": null,
            "padding": null,
            "right": null,
            "top": null,
            "visibility": null,
            "width": null
          }
        },
        "6a5107eefb6241a7b73f5cdd0a021c3b": {
          "model_module": "@jupyter-widgets/controls",
          "model_name": "DescriptionStyleModel",
          "model_module_version": "1.5.0",
          "state": {
            "_model_module": "@jupyter-widgets/controls",
            "_model_module_version": "1.5.0",
            "_model_name": "DescriptionStyleModel",
            "_view_count": null,
            "_view_module": "@jupyter-widgets/base",
            "_view_module_version": "1.2.0",
            "_view_name": "StyleView",
            "description_width": ""
          }
        },
        "060e23cfecde4f8ba4c857dc4d5605f5": {
          "model_module": "@jupyter-widgets/controls",
          "model_name": "HBoxModel",
          "model_module_version": "1.5.0",
          "state": {
            "_dom_classes": [],
            "_model_module": "@jupyter-widgets/controls",
            "_model_module_version": "1.5.0",
            "_model_name": "HBoxModel",
            "_view_count": null,
            "_view_module": "@jupyter-widgets/controls",
            "_view_module_version": "1.5.0",
            "_view_name": "HBoxView",
            "box_style": "",
            "children": [
              "IPY_MODEL_46121909be764207b8d9041807bdedd0",
              "IPY_MODEL_c7d78341a4444fd3a0d993c28b93b275",
              "IPY_MODEL_77c68725dcce4d94af4075c1680cbca9"
            ],
            "layout": "IPY_MODEL_d5848474f6894bcf8353a619b40d94ba"
          }
        },
        "46121909be764207b8d9041807bdedd0": {
          "model_module": "@jupyter-widgets/controls",
          "model_name": "HTMLModel",
          "model_module_version": "1.5.0",
          "state": {
            "_dom_classes": [],
            "_model_module": "@jupyter-widgets/controls",
            "_model_module_version": "1.5.0",
            "_model_name": "HTMLModel",
            "_view_count": null,
            "_view_module": "@jupyter-widgets/controls",
            "_view_module_version": "1.5.0",
            "_view_name": "HTMLView",
            "description": "",
            "description_tooltip": null,
            "layout": "IPY_MODEL_68cbe85fd9ec4080b8d528792f538e64",
            "placeholder": "​",
            "style": "IPY_MODEL_febea4d4c2c74e079384effa2010101d",
            "value": "Iteration:   7%"
          }
        },
        "c7d78341a4444fd3a0d993c28b93b275": {
          "model_module": "@jupyter-widgets/controls",
          "model_name": "FloatProgressModel",
          "model_module_version": "1.5.0",
          "state": {
            "_dom_classes": [],
            "_model_module": "@jupyter-widgets/controls",
            "_model_module_version": "1.5.0",
            "_model_name": "FloatProgressModel",
            "_view_count": null,
            "_view_module": "@jupyter-widgets/controls",
            "_view_module_version": "1.5.0",
            "_view_name": "ProgressView",
            "bar_style": "",
            "description": "",
            "description_tooltip": null,
            "layout": "IPY_MODEL_960d93bf01b9465da21eb7fab86127be",
            "max": 473,
            "min": 0,
            "orientation": "horizontal",
            "style": "IPY_MODEL_63d89132f433449e918953f74a5fc378",
            "value": 35
          }
        },
        "77c68725dcce4d94af4075c1680cbca9": {
          "model_module": "@jupyter-widgets/controls",
          "model_name": "HTMLModel",
          "model_module_version": "1.5.0",
          "state": {
            "_dom_classes": [],
            "_model_module": "@jupyter-widgets/controls",
            "_model_module_version": "1.5.0",
            "_model_name": "HTMLModel",
            "_view_count": null,
            "_view_module": "@jupyter-widgets/controls",
            "_view_module_version": "1.5.0",
            "_view_name": "HTMLView",
            "description": "",
            "description_tooltip": null,
            "layout": "IPY_MODEL_324c87d4e53343e699debeed78e3dc81",
            "placeholder": "​",
            "style": "IPY_MODEL_b9754fb94abb40bca4132ddc5700ae0d",
            "value": " 35/473 [05:26&lt;1:04:36,  8.85s/it]"
          }
        },
        "d5848474f6894bcf8353a619b40d94ba": {
          "model_module": "@jupyter-widgets/base",
          "model_name": "LayoutModel",
          "model_module_version": "1.2.0",
          "state": {
            "_model_module": "@jupyter-widgets/base",
            "_model_module_version": "1.2.0",
            "_model_name": "LayoutModel",
            "_view_count": null,
            "_view_module": "@jupyter-widgets/base",
            "_view_module_version": "1.2.0",
            "_view_name": "LayoutView",
            "align_content": null,
            "align_items": null,
            "align_self": null,
            "border": null,
            "bottom": null,
            "display": null,
            "flex": null,
            "flex_flow": null,
            "grid_area": null,
            "grid_auto_columns": null,
            "grid_auto_flow": null,
            "grid_auto_rows": null,
            "grid_column": null,
            "grid_gap": null,
            "grid_row": null,
            "grid_template_areas": null,
            "grid_template_columns": null,
            "grid_template_rows": null,
            "height": null,
            "justify_content": null,
            "justify_items": null,
            "left": null,
            "margin": null,
            "max_height": null,
            "max_width": null,
            "min_height": null,
            "min_width": null,
            "object_fit": null,
            "object_position": null,
            "order": null,
            "overflow": null,
            "overflow_x": null,
            "overflow_y": null,
            "padding": null,
            "right": null,
            "top": null,
            "visibility": null,
            "width": null
          }
        },
        "68cbe85fd9ec4080b8d528792f538e64": {
          "model_module": "@jupyter-widgets/base",
          "model_name": "LayoutModel",
          "model_module_version": "1.2.0",
          "state": {
            "_model_module": "@jupyter-widgets/base",
            "_model_module_version": "1.2.0",
            "_model_name": "LayoutModel",
            "_view_count": null,
            "_view_module": "@jupyter-widgets/base",
            "_view_module_version": "1.2.0",
            "_view_name": "LayoutView",
            "align_content": null,
            "align_items": null,
            "align_self": null,
            "border": null,
            "bottom": null,
            "display": null,
            "flex": null,
            "flex_flow": null,
            "grid_area": null,
            "grid_auto_columns": null,
            "grid_auto_flow": null,
            "grid_auto_rows": null,
            "grid_column": null,
            "grid_gap": null,
            "grid_row": null,
            "grid_template_areas": null,
            "grid_template_columns": null,
            "grid_template_rows": null,
            "height": null,
            "justify_content": null,
            "justify_items": null,
            "left": null,
            "margin": null,
            "max_height": null,
            "max_width": null,
            "min_height": null,
            "min_width": null,
            "object_fit": null,
            "object_position": null,
            "order": null,
            "overflow": null,
            "overflow_x": null,
            "overflow_y": null,
            "padding": null,
            "right": null,
            "top": null,
            "visibility": null,
            "width": null
          }
        },
        "febea4d4c2c74e079384effa2010101d": {
          "model_module": "@jupyter-widgets/controls",
          "model_name": "DescriptionStyleModel",
          "model_module_version": "1.5.0",
          "state": {
            "_model_module": "@jupyter-widgets/controls",
            "_model_module_version": "1.5.0",
            "_model_name": "DescriptionStyleModel",
            "_view_count": null,
            "_view_module": "@jupyter-widgets/base",
            "_view_module_version": "1.2.0",
            "_view_name": "StyleView",
            "description_width": ""
          }
        },
        "960d93bf01b9465da21eb7fab86127be": {
          "model_module": "@jupyter-widgets/base",
          "model_name": "LayoutModel",
          "model_module_version": "1.2.0",
          "state": {
            "_model_module": "@jupyter-widgets/base",
            "_model_module_version": "1.2.0",
            "_model_name": "LayoutModel",
            "_view_count": null,
            "_view_module": "@jupyter-widgets/base",
            "_view_module_version": "1.2.0",
            "_view_name": "LayoutView",
            "align_content": null,
            "align_items": null,
            "align_self": null,
            "border": null,
            "bottom": null,
            "display": null,
            "flex": null,
            "flex_flow": null,
            "grid_area": null,
            "grid_auto_columns": null,
            "grid_auto_flow": null,
            "grid_auto_rows": null,
            "grid_column": null,
            "grid_gap": null,
            "grid_row": null,
            "grid_template_areas": null,
            "grid_template_columns": null,
            "grid_template_rows": null,
            "height": null,
            "justify_content": null,
            "justify_items": null,
            "left": null,
            "margin": null,
            "max_height": null,
            "max_width": null,
            "min_height": null,
            "min_width": null,
            "object_fit": null,
            "object_position": null,
            "order": null,
            "overflow": null,
            "overflow_x": null,
            "overflow_y": null,
            "padding": null,
            "right": null,
            "top": null,
            "visibility": null,
            "width": null
          }
        },
        "63d89132f433449e918953f74a5fc378": {
          "model_module": "@jupyter-widgets/controls",
          "model_name": "ProgressStyleModel",
          "model_module_version": "1.5.0",
          "state": {
            "_model_module": "@jupyter-widgets/controls",
            "_model_module_version": "1.5.0",
            "_model_name": "ProgressStyleModel",
            "_view_count": null,
            "_view_module": "@jupyter-widgets/base",
            "_view_module_version": "1.2.0",
            "_view_name": "StyleView",
            "bar_color": null,
            "description_width": ""
          }
        },
        "324c87d4e53343e699debeed78e3dc81": {
          "model_module": "@jupyter-widgets/base",
          "model_name": "LayoutModel",
          "model_module_version": "1.2.0",
          "state": {
            "_model_module": "@jupyter-widgets/base",
            "_model_module_version": "1.2.0",
            "_model_name": "LayoutModel",
            "_view_count": null,
            "_view_module": "@jupyter-widgets/base",
            "_view_module_version": "1.2.0",
            "_view_name": "LayoutView",
            "align_content": null,
            "align_items": null,
            "align_self": null,
            "border": null,
            "bottom": null,
            "display": null,
            "flex": null,
            "flex_flow": null,
            "grid_area": null,
            "grid_auto_columns": null,
            "grid_auto_flow": null,
            "grid_auto_rows": null,
            "grid_column": null,
            "grid_gap": null,
            "grid_row": null,
            "grid_template_areas": null,
            "grid_template_columns": null,
            "grid_template_rows": null,
            "height": null,
            "justify_content": null,
            "justify_items": null,
            "left": null,
            "margin": null,
            "max_height": null,
            "max_width": null,
            "min_height": null,
            "min_width": null,
            "object_fit": null,
            "object_position": null,
            "order": null,
            "overflow": null,
            "overflow_x": null,
            "overflow_y": null,
            "padding": null,
            "right": null,
            "top": null,
            "visibility": null,
            "width": null
          }
        },
        "b9754fb94abb40bca4132ddc5700ae0d": {
          "model_module": "@jupyter-widgets/controls",
          "model_name": "DescriptionStyleModel",
          "model_module_version": "1.5.0",
          "state": {
            "_model_module": "@jupyter-widgets/controls",
            "_model_module_version": "1.5.0",
            "_model_name": "DescriptionStyleModel",
            "_view_count": null,
            "_view_module": "@jupyter-widgets/base",
            "_view_module_version": "1.2.0",
            "_view_name": "StyleView",
            "description_width": ""
          }
        }
      }
    }
  },
  "nbformat": 4,
  "nbformat_minor": 5
}